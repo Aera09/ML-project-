{
 "cells": [
  {
   "cell_type": "code",
   "execution_count": 188,
   "metadata": {
    "_uuid": "0c87da7637d61a6d32cf9d51d5e6ae8585f3f041"
   },
   "outputs": [],
   "source": [
    "import pandas as pd\n",
    "import numpy as np\n",
    "import seaborn as sns\n",
    "import matplotlib.pyplot as plt\n",
    "%matplotlib inline\n",
    "import warnings\n",
    "warnings.filterwarnings(\"ignore\")"
   ]
  },
  {
   "cell_type": "markdown",
   "metadata": {
    "_uuid": "4171540782a03181f567e76f09d672ad829e6407"
   },
   "source": [
    "# Data"
   ]
  },
  {
   "cell_type": "markdown",
   "metadata": {
    "_uuid": "96ff338589e485cb659e243e6e0b1b41587c6994"
   },
   "source": [
    " For this practice problem, we have been given two CSV files: train and test."
   ]
  },
  {
   "cell_type": "markdown",
   "metadata": {
    "_uuid": "7769c482b5f81c501453ec18549ab49fc040c854"
   },
   "source": [
    "Train file will be used for training the model, i.e. our model will learn from this file. It contains all the independent variables and the target variable.\n",
    "\n",
    "Test file contains all the independent variables, but not the target variable. We will apply the model to predict the target variable for the test data."
   ]
  },
  {
   "cell_type": "markdown",
   "metadata": {
    "_uuid": "92974d0bb49ce2f374f5d9c21b282037db0c4e40"
   },
   "source": [
    "# Read Train and Test Data"
   ]
  },
  {
   "cell_type": "code",
   "execution_count": 189,
   "metadata": {
    "_uuid": "83ad303bfa71002ccd20f412841c3078e4c64b81"
   },
   "outputs": [],
   "source": [
    "train = pd.read_csv(\"train.csv\")\n",
    "test = pd.read_csv(\"test.csv\")"
   ]
  },
  {
   "cell_type": "markdown",
   "metadata": {
    "_uuid": "742c5198be0674ab978aa3816aa55fef3052e0da"
   },
   "source": [
    "Let’s make a copy of train and test data so that even if we have to make any changes in these datasets we would not lose the original datasets."
   ]
  },
  {
   "cell_type": "code",
   "execution_count": 190,
   "metadata": {
    "_uuid": "e6e2cb249f0fa4a761bd3ec2d9b4547c2b524ed4"
   },
   "outputs": [],
   "source": [
    "train_original = train.copy()\n",
    "test_original = test.copy()"
   ]
  },
  {
   "cell_type": "markdown",
   "metadata": {
    "_uuid": "c4e81f7dfa14e0d185e1a6f560872c4c9f3442cf"
   },
   "source": [
    "# Understanding the Data"
   ]
  },
  {
   "cell_type": "markdown",
   "metadata": {
    "_uuid": "03d9f224d04002d025e1c616a8eae28d5a425257"
   },
   "source": [
    "In this section, we will look at the structure of the train and test datasets. Firstly, we will check the features present in our data and then we will look at their data types."
   ]
  },
  {
   "cell_type": "code",
   "execution_count": 191,
   "metadata": {
    "_uuid": "17f3b62b8a2d3d28006c5efb4f8d2d5c59d290a5"
   },
   "outputs": [
    {
     "data": {
      "text/plain": [
       "Index(['Loan_ID', 'Gender', 'Married', 'Dependents', 'Education',\n",
       "       'Self_Employed', 'ApplicantIncome', 'CoapplicantIncome', 'LoanAmount',\n",
       "       'Loan_Amount_Term', 'Credit_History', 'Property_Area', 'Loan_Status'],\n",
       "      dtype='object')"
      ]
     },
     "execution_count": 191,
     "metadata": {},
     "output_type": "execute_result"
    }
   ],
   "source": [
    "train.columns"
   ]
  },
  {
   "cell_type": "markdown",
   "metadata": {
    "_uuid": "9342aa80d92510358a80ec7d199c99815bb36a90"
   },
   "source": [
    "We have 12 independent variables and 1 target variable, i.e. Loan_Status in the train dataset. Let’s also have a look at the columns of test dataset."
   ]
  },
  {
   "cell_type": "code",
   "execution_count": 192,
   "metadata": {
    "_uuid": "dcfddf7d44dbe347b14594b4b2ac1af07d4e6ecf"
   },
   "outputs": [
    {
     "data": {
      "text/plain": [
       "Index(['Loan_ID', 'Gender', 'Married', 'Dependents', 'Education',\n",
       "       'Self_Employed', 'ApplicantIncome', 'CoapplicantIncome', 'LoanAmount',\n",
       "       'Loan_Amount_Term', 'Credit_History', 'Property_Area'],\n",
       "      dtype='object')"
      ]
     },
     "execution_count": 192,
     "metadata": {},
     "output_type": "execute_result"
    }
   ],
   "source": [
    "test.columns"
   ]
  },
  {
   "cell_type": "markdown",
   "metadata": {
    "_uuid": "b0f1abbdc6f802eea42d177f581be6babbdf2daa"
   },
   "source": [
    "We have similar features in the test dataset as the train dataset except the Loan_Status. We will predict the Loan_Status using the model that we will build using the train data."
   ]
  },
  {
   "cell_type": "markdown",
   "metadata": {
    "_uuid": "777c5110d6660218971ed772f0b3df0f0ed93f06"
   },
   "source": [
    "# Print the data types"
   ]
  },
  {
   "cell_type": "code",
   "execution_count": 193,
   "metadata": {
    "_uuid": "322ee6e07ec4411ea39d023ec9047f61bc164603"
   },
   "outputs": [
    {
     "data": {
      "text/plain": [
       "Loan_ID               object\n",
       "Gender                object\n",
       "Married               object\n",
       "Dependents            object\n",
       "Education             object\n",
       "Self_Employed         object\n",
       "ApplicantIncome        int64\n",
       "CoapplicantIncome    float64\n",
       "LoanAmount           float64\n",
       "Loan_Amount_Term     float64\n",
       "Credit_History       float64\n",
       "Property_Area         object\n",
       "Loan_Status           object\n",
       "dtype: object"
      ]
     },
     "execution_count": 193,
     "metadata": {},
     "output_type": "execute_result"
    }
   ],
   "source": [
    "train.dtypes"
   ]
  },
  {
   "cell_type": "markdown",
   "metadata": {
    "_uuid": "a218a0498dc757f8c0f0aec3d5ee6a3c0b353218"
   },
   "source": [
    "# Shape of the dataset"
   ]
  },
  {
   "cell_type": "code",
   "execution_count": 194,
   "metadata": {
    "_uuid": "f3bdbd0e5bfaf3e94de8b63f3209f15b02a222e8"
   },
   "outputs": [
    {
     "name": "stdout",
     "output_type": "stream",
     "text": [
      "Training data shape:  (614, 13)\n"
     ]
    },
    {
     "data": {
      "text/html": [
       "<div>\n",
       "<style scoped>\n",
       "    .dataframe tbody tr th:only-of-type {\n",
       "        vertical-align: middle;\n",
       "    }\n",
       "\n",
       "    .dataframe tbody tr th {\n",
       "        vertical-align: top;\n",
       "    }\n",
       "\n",
       "    .dataframe thead th {\n",
       "        text-align: right;\n",
       "    }\n",
       "</style>\n",
       "<table border=\"1\" class=\"dataframe\">\n",
       "  <thead>\n",
       "    <tr style=\"text-align: right;\">\n",
       "      <th></th>\n",
       "      <th>Loan_ID</th>\n",
       "      <th>Gender</th>\n",
       "      <th>Married</th>\n",
       "      <th>Dependents</th>\n",
       "      <th>Education</th>\n",
       "      <th>Self_Employed</th>\n",
       "      <th>ApplicantIncome</th>\n",
       "      <th>CoapplicantIncome</th>\n",
       "      <th>LoanAmount</th>\n",
       "      <th>Loan_Amount_Term</th>\n",
       "      <th>Credit_History</th>\n",
       "      <th>Property_Area</th>\n",
       "      <th>Loan_Status</th>\n",
       "    </tr>\n",
       "  </thead>\n",
       "  <tbody>\n",
       "    <tr>\n",
       "      <th>0</th>\n",
       "      <td>LP001002</td>\n",
       "      <td>Male</td>\n",
       "      <td>No</td>\n",
       "      <td>0</td>\n",
       "      <td>Graduate</td>\n",
       "      <td>No</td>\n",
       "      <td>5849</td>\n",
       "      <td>0.0</td>\n",
       "      <td>NaN</td>\n",
       "      <td>360.0</td>\n",
       "      <td>1.0</td>\n",
       "      <td>Urban</td>\n",
       "      <td>Y</td>\n",
       "    </tr>\n",
       "    <tr>\n",
       "      <th>1</th>\n",
       "      <td>LP001003</td>\n",
       "      <td>Male</td>\n",
       "      <td>Yes</td>\n",
       "      <td>1</td>\n",
       "      <td>Graduate</td>\n",
       "      <td>No</td>\n",
       "      <td>4583</td>\n",
       "      <td>1508.0</td>\n",
       "      <td>128.0</td>\n",
       "      <td>360.0</td>\n",
       "      <td>1.0</td>\n",
       "      <td>Rural</td>\n",
       "      <td>N</td>\n",
       "    </tr>\n",
       "    <tr>\n",
       "      <th>2</th>\n",
       "      <td>LP001005</td>\n",
       "      <td>Male</td>\n",
       "      <td>Yes</td>\n",
       "      <td>0</td>\n",
       "      <td>Graduate</td>\n",
       "      <td>Yes</td>\n",
       "      <td>3000</td>\n",
       "      <td>0.0</td>\n",
       "      <td>66.0</td>\n",
       "      <td>360.0</td>\n",
       "      <td>1.0</td>\n",
       "      <td>Urban</td>\n",
       "      <td>Y</td>\n",
       "    </tr>\n",
       "    <tr>\n",
       "      <th>3</th>\n",
       "      <td>LP001006</td>\n",
       "      <td>Male</td>\n",
       "      <td>Yes</td>\n",
       "      <td>0</td>\n",
       "      <td>Not Graduate</td>\n",
       "      <td>No</td>\n",
       "      <td>2583</td>\n",
       "      <td>2358.0</td>\n",
       "      <td>120.0</td>\n",
       "      <td>360.0</td>\n",
       "      <td>1.0</td>\n",
       "      <td>Urban</td>\n",
       "      <td>Y</td>\n",
       "    </tr>\n",
       "    <tr>\n",
       "      <th>4</th>\n",
       "      <td>LP001008</td>\n",
       "      <td>Male</td>\n",
       "      <td>No</td>\n",
       "      <td>0</td>\n",
       "      <td>Graduate</td>\n",
       "      <td>No</td>\n",
       "      <td>6000</td>\n",
       "      <td>0.0</td>\n",
       "      <td>141.0</td>\n",
       "      <td>360.0</td>\n",
       "      <td>1.0</td>\n",
       "      <td>Urban</td>\n",
       "      <td>Y</td>\n",
       "    </tr>\n",
       "  </tbody>\n",
       "</table>\n",
       "</div>"
      ],
      "text/plain": [
       "    Loan_ID Gender Married Dependents     Education Self_Employed  \\\n",
       "0  LP001002   Male      No          0      Graduate            No   \n",
       "1  LP001003   Male     Yes          1      Graduate            No   \n",
       "2  LP001005   Male     Yes          0      Graduate           Yes   \n",
       "3  LP001006   Male     Yes          0  Not Graduate            No   \n",
       "4  LP001008   Male      No          0      Graduate            No   \n",
       "\n",
       "   ApplicantIncome  CoapplicantIncome  LoanAmount  Loan_Amount_Term  \\\n",
       "0             5849                0.0         NaN             360.0   \n",
       "1             4583             1508.0       128.0             360.0   \n",
       "2             3000                0.0        66.0             360.0   \n",
       "3             2583             2358.0       120.0             360.0   \n",
       "4             6000                0.0       141.0             360.0   \n",
       "\n",
       "   Credit_History Property_Area Loan_Status  \n",
       "0             1.0         Urban           Y  \n",
       "1             1.0         Rural           N  \n",
       "2             1.0         Urban           Y  \n",
       "3             1.0         Urban           Y  \n",
       "4             1.0         Urban           Y  "
      ]
     },
     "execution_count": 194,
     "metadata": {},
     "output_type": "execute_result"
    }
   ],
   "source": [
    "print('Training data shape: ', train.shape)\n",
    "train.head()"
   ]
  },
  {
   "cell_type": "code",
   "execution_count": 195,
   "metadata": {
    "_uuid": "1e87f37fbc1391ffc0ce7362df4c608140b72997"
   },
   "outputs": [
    {
     "name": "stdout",
     "output_type": "stream",
     "text": [
      "Test data shape:  (367, 12)\n"
     ]
    },
    {
     "data": {
      "text/html": [
       "<div>\n",
       "<style scoped>\n",
       "    .dataframe tbody tr th:only-of-type {\n",
       "        vertical-align: middle;\n",
       "    }\n",
       "\n",
       "    .dataframe tbody tr th {\n",
       "        vertical-align: top;\n",
       "    }\n",
       "\n",
       "    .dataframe thead th {\n",
       "        text-align: right;\n",
       "    }\n",
       "</style>\n",
       "<table border=\"1\" class=\"dataframe\">\n",
       "  <thead>\n",
       "    <tr style=\"text-align: right;\">\n",
       "      <th></th>\n",
       "      <th>Loan_ID</th>\n",
       "      <th>Gender</th>\n",
       "      <th>Married</th>\n",
       "      <th>Dependents</th>\n",
       "      <th>Education</th>\n",
       "      <th>Self_Employed</th>\n",
       "      <th>ApplicantIncome</th>\n",
       "      <th>CoapplicantIncome</th>\n",
       "      <th>LoanAmount</th>\n",
       "      <th>Loan_Amount_Term</th>\n",
       "      <th>Credit_History</th>\n",
       "      <th>Property_Area</th>\n",
       "    </tr>\n",
       "  </thead>\n",
       "  <tbody>\n",
       "    <tr>\n",
       "      <th>0</th>\n",
       "      <td>LP001015</td>\n",
       "      <td>Male</td>\n",
       "      <td>Yes</td>\n",
       "      <td>0</td>\n",
       "      <td>Graduate</td>\n",
       "      <td>No</td>\n",
       "      <td>5720</td>\n",
       "      <td>0</td>\n",
       "      <td>110.0</td>\n",
       "      <td>360.0</td>\n",
       "      <td>1.0</td>\n",
       "      <td>Urban</td>\n",
       "    </tr>\n",
       "    <tr>\n",
       "      <th>1</th>\n",
       "      <td>LP001022</td>\n",
       "      <td>Male</td>\n",
       "      <td>Yes</td>\n",
       "      <td>1</td>\n",
       "      <td>Graduate</td>\n",
       "      <td>No</td>\n",
       "      <td>3076</td>\n",
       "      <td>1500</td>\n",
       "      <td>126.0</td>\n",
       "      <td>360.0</td>\n",
       "      <td>1.0</td>\n",
       "      <td>Urban</td>\n",
       "    </tr>\n",
       "    <tr>\n",
       "      <th>2</th>\n",
       "      <td>LP001031</td>\n",
       "      <td>Male</td>\n",
       "      <td>Yes</td>\n",
       "      <td>2</td>\n",
       "      <td>Graduate</td>\n",
       "      <td>No</td>\n",
       "      <td>5000</td>\n",
       "      <td>1800</td>\n",
       "      <td>208.0</td>\n",
       "      <td>360.0</td>\n",
       "      <td>1.0</td>\n",
       "      <td>Urban</td>\n",
       "    </tr>\n",
       "    <tr>\n",
       "      <th>3</th>\n",
       "      <td>LP001035</td>\n",
       "      <td>Male</td>\n",
       "      <td>Yes</td>\n",
       "      <td>2</td>\n",
       "      <td>Graduate</td>\n",
       "      <td>No</td>\n",
       "      <td>2340</td>\n",
       "      <td>2546</td>\n",
       "      <td>100.0</td>\n",
       "      <td>360.0</td>\n",
       "      <td>NaN</td>\n",
       "      <td>Urban</td>\n",
       "    </tr>\n",
       "    <tr>\n",
       "      <th>4</th>\n",
       "      <td>LP001051</td>\n",
       "      <td>Male</td>\n",
       "      <td>No</td>\n",
       "      <td>0</td>\n",
       "      <td>Not Graduate</td>\n",
       "      <td>No</td>\n",
       "      <td>3276</td>\n",
       "      <td>0</td>\n",
       "      <td>78.0</td>\n",
       "      <td>360.0</td>\n",
       "      <td>1.0</td>\n",
       "      <td>Urban</td>\n",
       "    </tr>\n",
       "  </tbody>\n",
       "</table>\n",
       "</div>"
      ],
      "text/plain": [
       "    Loan_ID Gender Married Dependents     Education Self_Employed  \\\n",
       "0  LP001015   Male     Yes          0      Graduate            No   \n",
       "1  LP001022   Male     Yes          1      Graduate            No   \n",
       "2  LP001031   Male     Yes          2      Graduate            No   \n",
       "3  LP001035   Male     Yes          2      Graduate            No   \n",
       "4  LP001051   Male      No          0  Not Graduate            No   \n",
       "\n",
       "   ApplicantIncome  CoapplicantIncome  LoanAmount  Loan_Amount_Term  \\\n",
       "0             5720                  0       110.0             360.0   \n",
       "1             3076               1500       126.0             360.0   \n",
       "2             5000               1800       208.0             360.0   \n",
       "3             2340               2546       100.0             360.0   \n",
       "4             3276                  0        78.0             360.0   \n",
       "\n",
       "   Credit_History Property_Area  \n",
       "0             1.0         Urban  \n",
       "1             1.0         Urban  \n",
       "2             1.0         Urban  \n",
       "3             NaN         Urban  \n",
       "4             1.0         Urban  "
      ]
     },
     "execution_count": 195,
     "metadata": {},
     "output_type": "execute_result"
    }
   ],
   "source": [
    "print('Test data shape: ', test.shape)\n",
    "test.head()"
   ]
  },
  {
   "cell_type": "markdown",
   "metadata": {
    "_uuid": "c661381b9f4869dded6123c479aafcfff5bd55d8"
   },
   "source": [
    "We have 614 rows and 13 columns in the train dataset and 367 rows and 12 columns in test dataset."
   ]
  },
  {
   "cell_type": "markdown",
   "metadata": {
    "_uuid": "bb7613843e5f55843f4c3a86daab1186b4503744"
   },
   "source": [
    "# Univariate Analysis"
   ]
  },
  {
   "cell_type": "markdown",
   "metadata": {
    "_uuid": "d43d5745b2500f48ee879edb85f67fcaa5ecf0c3"
   },
   "source": [
    "In this section, we will do univariate analysis. It is the simplest form of analyzing data where we examine each variable individually. \n",
    "\n",
    "For categorical features we can use frequency table or bar plots which will calculate the number of each category in a particular variable.\n",
    "\n",
    "For numerical features, probability density plots can be used to look at the distribution of the variable."
   ]
  },
  {
   "cell_type": "markdown",
   "metadata": {
    "_uuid": "8c7887ee70a86c7cc6a003410e162d135e9a62e1"
   },
   "source": [
    "# Target Variable"
   ]
  },
  {
   "cell_type": "markdown",
   "metadata": {
    "_uuid": "049e1840ddd6f5f9403148f987b364ac1239ef66"
   },
   "source": [
    "We will first look at the target variable, i.e., Loan_Status.\n",
    "\n",
    "As it is a categorical variable, let us look at its frequency table, percentage distribution and bar plot."
   ]
  },
  {
   "cell_type": "markdown",
   "metadata": {
    "_uuid": "7b2e442e85fee55fd2aee595080f90ba7f009a20"
   },
   "source": [
    "Frequency table of a variable will give us the count of each category in that variable."
   ]
  },
  {
   "cell_type": "code",
   "execution_count": 196,
   "metadata": {
    "_uuid": "eec9660b429bbbbd98f9594fb3a5109bd2f3ea67"
   },
   "outputs": [
    {
     "data": {
      "text/plain": [
       "614"
      ]
     },
     "execution_count": 196,
     "metadata": {},
     "output_type": "execute_result"
    }
   ],
   "source": [
    "#train[\"Loan_Status\"].size\n",
    "train[\"Loan_Status\"].count()"
   ]
  },
  {
   "cell_type": "markdown",
   "metadata": {
    "_uuid": "ca4dc6edb96959dc7ceb89e5f6db5b7f71bf5e84"
   },
   "source": [
    "Size of our target variable is : 614"
   ]
  },
  {
   "cell_type": "code",
   "execution_count": 197,
   "metadata": {
    "_uuid": "4d3928d89491e777183c7de216d377447ce64186"
   },
   "outputs": [
    {
     "data": {
      "text/plain": [
       "Loan_Status\n",
       "Y    422\n",
       "N    192\n",
       "Name: count, dtype: int64"
      ]
     },
     "execution_count": 197,
     "metadata": {},
     "output_type": "execute_result"
    }
   ],
   "source": [
    "train[\"Loan_Status\"].value_counts()"
   ]
  },
  {
   "cell_type": "markdown",
   "metadata": {
    "_uuid": "647b43c2d0bfe0820ec9b02ab226aa6035fe0130"
   },
   "source": [
    "Among 614 Loan_Status :\n",
    "Accepted : 422 \n",
    "Rejected : 192"
   ]
  },
  {
   "cell_type": "code",
   "execution_count": 198,
   "metadata": {
    "_uuid": "7a53f12f542882478747e7f6469b5a2e75727e2c"
   },
   "outputs": [
    {
     "data": {
      "text/plain": [
       "Loan_Status\n",
       "Y    68.729642\n",
       "N    31.270358\n",
       "Name: proportion, dtype: float64"
      ]
     },
     "execution_count": 198,
     "metadata": {},
     "output_type": "execute_result"
    }
   ],
   "source": [
    "# Normalize can be set to True to print proportions instead of number \n",
    "train[\"Loan_Status\"].value_counts(normalize=True)*100"
   ]
  },
  {
   "cell_type": "code",
   "execution_count": 199,
   "metadata": {
    "_uuid": "d2ffa47ed61b5ac403fc10b5cd935f50fc973ac1"
   },
   "outputs": [
    {
     "data": {
      "text/plain": [
       "<Axes: title={'center': 'Loan_Status'}, xlabel='Loan_Status'>"
      ]
     },
     "execution_count": 199,
     "metadata": {},
     "output_type": "execute_result"
    },
    {
     "data": {
      "image/png": "[encoded data removed]",
      "text/plain": [
       "<Figure size 640x480 with 1 Axes>"
      ]
     },
     "metadata": {},
     "output_type": "display_data"
    }
   ],
   "source": [
    "train[\"Loan_Status\"].value_counts(normalize=True).plot.bar(title = 'Loan_Status')"
   ]
  },
  {
   "cell_type": "markdown",
   "metadata": {
    "_uuid": "4221c45888f97ffd84e346adb396a58f3ab7f98d"
   },
   "source": [
    "The loan of 422(around 69%) people out of 614 was approved."
   ]
  },
  {
   "cell_type": "markdown",
   "metadata": {
    "_uuid": "73435e5742dc631c284df14b12bee4a86fbe3574"
   },
   "source": [
    "Now lets visualize each variable separately. Different types of variables are Categorical, ordinal and numerical."
   ]
  },
  {
   "cell_type": "markdown",
   "metadata": {
    "_uuid": "2f609146393ec79991fc37b83f75436c607c1661"
   },
   "source": [
    "Categorical features: These features have categories (Gender, Married, Self_Employed, Credit_History, Loan_Status)"
   ]
  },
  {
   "cell_type": "markdown",
   "metadata": {
    "_uuid": "b67622450ddb029cb470b125b08c0a06d0c3f29d"
   },
   "source": [
    "# Independent Variable (Categorical)"
   ]
  },
  {
   "cell_type": "markdown",
   "metadata": {
    "_uuid": "db2ab2be3d65b1d89d336fc3201ca4d0655146fa"
   },
   "source": [
    "# Analysis on \"Gender\" variable :"
   ]
  },
  {
   "cell_type": "code",
   "execution_count": 200,
   "metadata": {
    "_uuid": "043ffbc2072e01264f52ff573ad289e57749cc38"
   },
   "outputs": [
    {
     "data": {
      "text/plain": [
       "601"
      ]
     },
     "execution_count": 200,
     "metadata": {},
     "output_type": "execute_result"
    }
   ],
   "source": [
    "train[\"Gender\"].count()"
   ]
  },
  {
   "cell_type": "markdown",
   "metadata": {
    "_uuid": "f47db682c421b0005f2dbab0baa77f11ed15dbb1"
   },
   "source": [
    "Size of our \"Gender\" variable is : 614"
   ]
  },
  {
   "cell_type": "code",
   "execution_count": 201,
   "metadata": {
    "_uuid": "7a7f04b6f1f3463ce52388824dd5d29a7c94beee"
   },
   "outputs": [
    {
     "data": {
      "text/plain": [
       "Gender\n",
       "Male      489\n",
       "Female    112\n",
       "Name: count, dtype: int64"
      ]
     },
     "execution_count": 201,
     "metadata": {},
     "output_type": "execute_result"
    }
   ],
   "source": [
    "train[\"Gender\"].value_counts()"
   ]
  },
  {
   "cell_type": "markdown",
   "metadata": {
    "_uuid": "397b6194e78e3b7ab6093a48a4bca9c05f19f6b9"
   },
   "source": [
    "Among 601 person: \n",
    "Male : 489 \n",
    "Female : 112"
   ]
  },
  {
   "cell_type": "code",
   "execution_count": 202,
   "metadata": {
    "_uuid": "4952b9d859b49aff3786ff7ea4b68d3e97a8caf4"
   },
   "outputs": [
    {
     "data": {
      "text/plain": [
       "Gender\n",
       "Male      81.364393\n",
       "Female    18.635607\n",
       "Name: proportion, dtype: float64"
      ]
     },
     "execution_count": 202,
     "metadata": {},
     "output_type": "execute_result"
    }
   ],
   "source": [
    "train['Gender'].value_counts(normalize=True)*100"
   ]
  },
  {
   "cell_type": "code",
   "execution_count": 203,
   "metadata": {
    "_uuid": "8700758af3eeba08aeea0330836def2a97954e79"
   },
   "outputs": [
    {
     "data": {
      "text/plain": [
       "<Axes: title={'center': 'Gender'}, xlabel='Gender'>"
      ]
     },
     "execution_count": 203,
     "metadata": {},
     "output_type": "execute_result"
    },
    {
     "data": {
      "image/png": "[encoded data removed]",
      "text/plain": [
       "<Figure size 640x480 with 1 Axes>"
      ]
     },
     "metadata": {},
     "output_type": "display_data"
    }
   ],
   "source": [
    "train['Gender'].value_counts(normalize=True).plot.bar(title= 'Gender')"
   ]
  },
  {
   "cell_type": "markdown",
   "metadata": {
    "_uuid": "0d27005f535781e50731f0bdf4437a6ef5d5c53b"
   },
   "source": [
    "In our train dataset the \"Gender\" variable contain\n",
    "Male : 81%\n",
    "Female: 19%     "
   ]
  },
  {
   "cell_type": "markdown",
   "metadata": {
    "_uuid": "8716f685afbfad573a547ac1809f2d95497d617e"
   },
   "source": [
    "# Analysis on \"Married\" variable :"
   ]
  },
  {
   "cell_type": "code",
   "execution_count": 204,
   "metadata": {
    "_uuid": "5260e5a84a3d612bf12835c062c87fed749bb455"
   },
   "outputs": [
    {
     "data": {
      "text/plain": [
       "611"
      ]
     },
     "execution_count": 204,
     "metadata": {},
     "output_type": "execute_result"
    }
   ],
   "source": [
    "train[\"Married\"].count()"
   ]
  },
  {
   "cell_type": "markdown",
   "metadata": {
    "_uuid": "be8e4d52c71f6cf2affbe7a7a2d72acae544403c"
   },
   "source": [
    "Size of our \"Married\" variable is : 611"
   ]
  },
  {
   "cell_type": "code",
   "execution_count": 205,
   "metadata": {
    "_uuid": "8293c7ca49b90a8643aab93619530e63b0fc6135"
   },
   "outputs": [
    {
     "data": {
      "text/plain": [
       "Married\n",
       "Yes    398\n",
       "No     213\n",
       "Name: count, dtype: int64"
      ]
     },
     "execution_count": 205,
     "metadata": {},
     "output_type": "execute_result"
    }
   ],
   "source": [
    "train[\"Married\"].value_counts()"
   ]
  },
  {
   "cell_type": "markdown",
   "metadata": {
    "_uuid": "61e540cc94836b7a6f73f50583e2db84cbddd41f"
   },
   "source": [
    "Total number of people : 611\n",
    "\n",
    "Married : 398\n",
    "\n",
    "Unmarried : 213    "
   ]
  },
  {
   "cell_type": "code",
   "execution_count": 206,
   "metadata": {
    "_uuid": "ac7b58fce7c19298d3278896dff21e3e2b26deb3"
   },
   "outputs": [
    {
     "data": {
      "text/plain": [
       "Married\n",
       "Yes    65.139116\n",
       "No     34.860884\n",
       "Name: proportion, dtype: float64"
      ]
     },
     "execution_count": 206,
     "metadata": {},
     "output_type": "execute_result"
    }
   ],
   "source": [
    "train['Married'].value_counts(normalize=True)*100"
   ]
  },
  {
   "cell_type": "code",
   "execution_count": 207,
   "metadata": {
    "_uuid": "e49d98637a1006ea2e68a69b51094bda42f485d4"
   },
   "outputs": [
    {
     "data": {
      "text/plain": [
       "<Axes: title={'center': 'Married'}, xlabel='Married'>"
      ]
     },
     "execution_count": 207,
     "metadata": {},
     "output_type": "execute_result"
    },
    {
     "data": {
      "image/png": "[encoded data removed]",
      "text/plain": [
       "<Figure size 640x480 with 1 Axes>"
      ]
     },
     "metadata": {},
     "output_type": "display_data"
    }
   ],
   "source": [
    "train['Married'].value_counts(normalize=True).plot.bar(title= 'Married')"
   ]
  },
  {
   "cell_type": "markdown",
   "metadata": {
    "_uuid": "564cca5f2adee036022710e24ce05974bda50724"
   },
   "source": [
    "From the Grapch we see that :\n",
    "\n",
    "Number of married people : 65%\n",
    "\n",
    "Number of unmarried people : 35%    "
   ]
  },
  {
   "cell_type": "markdown",
   "metadata": {
    "_uuid": "bc490415258095a11b7215bb5fa896b4c5b98764"
   },
   "source": [
    "# Analysis on \"Self_Employed\" variable : "
   ]
  },
  {
   "cell_type": "code",
   "execution_count": 208,
   "metadata": {
    "_uuid": "82a17178745cc4712493e08fdab6832ab88f0576"
   },
   "outputs": [
    {
     "data": {
      "text/plain": [
       "582"
      ]
     },
     "execution_count": 208,
     "metadata": {},
     "output_type": "execute_result"
    }
   ],
   "source": [
    "train[\"Self_Employed\"].count()"
   ]
  },
  {
   "cell_type": "markdown",
   "metadata": {
    "_uuid": "087451513d74f1aa94f98851c95fbeb2d09fd501"
   },
   "source": [
    "Size of our \"Self_Employed\" variable is : 582"
   ]
  },
  {
   "cell_type": "code",
   "execution_count": 209,
   "metadata": {
    "_uuid": "576a5f0eaff4f32f0d262b29e3ec2c3c6fb17816"
   },
   "outputs": [
    {
     "data": {
      "text/plain": [
       "Self_Employed\n",
       "No     500\n",
       "Yes     82\n",
       "Name: count, dtype: int64"
      ]
     },
     "execution_count": 209,
     "metadata": {},
     "output_type": "execute_result"
    }
   ],
   "source": [
    "train[\"Self_Employed\"].value_counts()"
   ]
  },
  {
   "cell_type": "markdown",
   "metadata": {
    "_uuid": "b40e889caacd1fcf4b23904d4dd75bf5a81910e7"
   },
   "source": [
    "Total number of people : 582\n",
    "\n",
    "Self_Employed : 82\n",
    "\n",
    "Not_Self_Employed : 500"
   ]
  },
  {
   "cell_type": "code",
   "execution_count": 210,
   "metadata": {
    "_uuid": "b952ab2c65ccdda7de675b96971f16239318ef9b"
   },
   "outputs": [
    {
     "data": {
      "text/plain": [
       "Self_Employed\n",
       "No     85.910653\n",
       "Yes    14.089347\n",
       "Name: proportion, dtype: float64"
      ]
     },
     "execution_count": 210,
     "metadata": {},
     "output_type": "execute_result"
    }
   ],
   "source": [
    "train['Self_Employed'].value_counts(normalize=True)*100"
   ]
  },
  {
   "cell_type": "code",
   "execution_count": 211,
   "metadata": {
    "_uuid": "1674948e9f8eefadb3e773e71d25cc539c0a6753"
   },
   "outputs": [
    {
     "data": {
      "text/plain": [
       "<Axes: title={'center': 'Self_Employed'}, xlabel='Self_Employed'>"
      ]
     },
     "execution_count": 211,
     "metadata": {},
     "output_type": "execute_result"
    },
    {
     "data": {
      "image/png": "[encoded data removed]",
      "text/plain": [
       "<Figure size 640x480 with 1 Axes>"
      ]
     },
     "metadata": {},
     "output_type": "display_data"
    }
   ],
   "source": [
    "train['Self_Employed'].value_counts(normalize=True).plot.bar(title='Self_Employed')"
   ]
  },
  {
   "cell_type": "markdown",
   "metadata": {
    "_uuid": "a92815e3138a5cfee5cad0b0f84c3ef6e2663f09"
   },
   "source": [
    "Among 582 people only 14% are Self_Employed and rest of the 86% are Not_Self_Employed"
   ]
  },
  {
   "cell_type": "markdown",
   "metadata": {
    "_uuid": "3d320b376831726b8796e75fb6f39f7b0dcbeb29"
   },
   "source": [
    "# Analysis on \"Credit_History\" variable :"
   ]
  },
  {
   "cell_type": "code",
   "execution_count": 212,
   "metadata": {
    "_uuid": "75f5b4efdcb7aa91398b66e83693e41a7830b05d"
   },
   "outputs": [
    {
     "data": {
      "text/plain": [
       "564"
      ]
     },
     "execution_count": 212,
     "metadata": {},
     "output_type": "execute_result"
    }
   ],
   "source": [
    "train[\"Credit_History\"].count()"
   ]
  },
  {
   "cell_type": "markdown",
   "metadata": {
    "_uuid": "5266c4c56d54f37bf4ac95a6a32f3debf668e62e"
   },
   "source": [
    "Size of our \"Credit_History\" variable is : 564"
   ]
  },
  {
   "cell_type": "code",
   "execution_count": 213,
   "metadata": {
    "_uuid": "94e79d30be08624c95d72e38ec7ea777cdc69e9d"
   },
   "outputs": [
    {
     "data": {
      "text/plain": [
       "Credit_History\n",
       "1.0    475\n",
       "0.0     89\n",
       "Name: count, dtype: int64"
      ]
     },
     "execution_count": 213,
     "metadata": {},
     "output_type": "execute_result"
    }
   ],
   "source": [
    "train[\"Credit_History\"].value_counts()"
   ]
  },
  {
   "cell_type": "markdown",
   "metadata": {
    "_uuid": "242303aa89d615f66169c83c2e3c6fcddd283592"
   },
   "source": [
    "Total number of debts : 564\n",
    "\n",
    "Repaid Debts : 475\n",
    "\n",
    "Not Repaid Debts : 89    "
   ]
  },
  {
   "cell_type": "code",
   "execution_count": 214,
   "metadata": {
    "_uuid": "5d3aa37f879e88d0433b4a9a86a7c771d560a156"
   },
   "outputs": [
    {
     "data": {
      "text/plain": [
       "Credit_History\n",
       "1.0    84.219858\n",
       "0.0    15.780142\n",
       "Name: proportion, dtype: float64"
      ]
     },
     "execution_count": 214,
     "metadata": {},
     "output_type": "execute_result"
    }
   ],
   "source": [
    "train['Credit_History'].value_counts(normalize=True)*100"
   ]
  },
  {
   "cell_type": "code",
   "execution_count": 215,
   "metadata": {
    "_uuid": "630a2649c89f664e2874a47f92ac8e09fe85c9a3"
   },
   "outputs": [
    {
     "data": {
      "text/plain": [
       "<Axes: title={'center': 'Credit_History'}, xlabel='Credit_History'>"
      ]
     },
     "execution_count": 215,
     "metadata": {},
     "output_type": "execute_result"
    },
    {
     "data": {
      "image/png": "[encoded data removed]",
      "text/plain": [
       "<Figure size 640x480 with 1 Axes>"
      ]
     },
     "metadata": {},
     "output_type": "display_data"
    }
   ],
   "source": [
    "train['Credit_History'].value_counts(normalize=True).plot.bar(title='Credit_History')\n"
   ]
  },
  {
   "cell_type": "markdown",
   "metadata": {
    "_uuid": "f9cb0b59105dc8b44cc75d56a00dc3c8a298416d"
   },
   "source": [
    "Around 84% applicants have repaid their debts."
   ]
  },
  {
   "cell_type": "code",
   "execution_count": 216,
   "metadata": {
    "_uuid": "0627a1636e2a28fb9f1847b7a303775809da0f64"
   },
   "outputs": [
    {
     "data": {
      "text/plain": [
       "599"
      ]
     },
     "execution_count": 216,
     "metadata": {},
     "output_type": "execute_result"
    }
   ],
   "source": [
    "train['Dependents'].count()"
   ]
  },
  {
   "cell_type": "markdown",
   "metadata": {
    "_uuid": "7cfcc8ee54d6a89ef6cb5a12180e1100a968649d"
   },
   "source": [
    "Size of our \"Dependents\" variable is : 599"
   ]
  },
  {
   "cell_type": "code",
   "execution_count": 217,
   "metadata": {
    "_uuid": "e89cc36eaebc8aa69c24a7cfec01ddc8ebf9b152"
   },
   "outputs": [
    {
     "data": {
      "text/plain": [
       "Dependents\n",
       "0     345\n",
       "1     102\n",
       "2     101\n",
       "3+     51\n",
       "Name: count, dtype: int64"
      ]
     },
     "execution_count": 217,
     "metadata": {},
     "output_type": "execute_result"
    }
   ],
   "source": [
    "train[\"Dependents\"].value_counts()"
   ]
  },
  {
   "cell_type": "markdown",
   "metadata": {
    "_uuid": "7022370553f01e8a176bc1d289b00f1673e59499"
   },
   "source": [
    "Number of 0 Dependent : 345\n",
    "\n",
    "Number of 1 Dependent : 102\n",
    "\n",
    "Number of 2 Dependesnt : 101\n",
    "\n",
    "Number of 3+ Dependent : 51"
   ]
  },
  {
   "cell_type": "code",
   "execution_count": 218,
   "metadata": {
    "_uuid": "8d74b3b0e9fc096c4e28a975c79aa123316645d2"
   },
   "outputs": [
    {
     "data": {
      "text/plain": [
       "Dependents\n",
       "0     57.595993\n",
       "1     17.028381\n",
       "2     16.861436\n",
       "3+     8.514190\n",
       "Name: proportion, dtype: float64"
      ]
     },
     "execution_count": 218,
     "metadata": {},
     "output_type": "execute_result"
    }
   ],
   "source": [
    "train['Dependents'].value_counts(normalize=True)*100"
   ]
  },
  {
   "cell_type": "code",
   "execution_count": 219,
   "metadata": {
    "_uuid": "d9a5fe8558178314adbff17efb19aed42596761c"
   },
   "outputs": [
    {
     "data": {
      "text/plain": [
       "<Axes: title={'center': 'Dependents'}, xlabel='Dependents'>"
      ]
     },
     "execution_count": 219,
     "metadata": {},
     "output_type": "execute_result"
    },
    {
     "data": {
      "image/png": "[encoded data removed]",
      "text/plain": [
       "<Figure size 640x480 with 1 Axes>"
      ]
     },
     "metadata": {},
     "output_type": "display_data"
    }
   ],
   "source": [
    "train['Dependents'].value_counts(normalize=True).plot.bar(title=\"Dependents\")"
   ]
  },
  {
   "cell_type": "markdown",
   "metadata": {
    "_uuid": "c7b3a497f41df12ea285efffb90b204f1d565545"
   },
   "source": [
    "58% people have 0 dependent\n",
    "\n",
    "17% people have 1 dependent\n",
    "\n",
    "17% people have 2 dependent\n",
    "\n",
    "8% people have 3+ dependent"
   ]
  },
  {
   "cell_type": "markdown",
   "metadata": {
    "_uuid": "413a4e61a815d13009dc498d9e49eed3d3ffafd9"
   },
   "source": [
    "# Analysis on \"Education\" variable :"
   ]
  },
  {
   "cell_type": "code",
   "execution_count": 220,
   "metadata": {
    "_uuid": "6a2b4dcc6c8db8fc1b940d872d7fca59cc619574"
   },
   "outputs": [
    {
     "data": {
      "text/plain": [
       "614"
      ]
     },
     "execution_count": 220,
     "metadata": {},
     "output_type": "execute_result"
    }
   ],
   "source": [
    "train[\"Education\"].count()"
   ]
  },
  {
   "cell_type": "markdown",
   "metadata": {
    "_uuid": "23bf5801a119596164795a95cc6e1ed2942e1dab"
   },
   "source": [
    "Size of Education variable : 614"
   ]
  },
  {
   "cell_type": "code",
   "execution_count": 221,
   "metadata": {
    "_uuid": "535edaeb4c1941d4b936d83c19860acfa2472a6b"
   },
   "outputs": [
    {
     "data": {
      "text/plain": [
       "Education\n",
       "Graduate        480\n",
       "Not Graduate    134\n",
       "Name: count, dtype: int64"
      ]
     },
     "execution_count": 221,
     "metadata": {},
     "output_type": "execute_result"
    }
   ],
   "source": [
    "train[\"Education\"].value_counts()"
   ]
  },
  {
   "cell_type": "markdown",
   "metadata": {
    "_uuid": "c8b60ae414b444ac68b9535316c01b404badd6b9"
   },
   "source": [
    "People who are Graduated : 480\n",
    "\n",
    "People who are not Graduated : 134"
   ]
  },
  {
   "cell_type": "code",
   "execution_count": 222,
   "metadata": {
    "_uuid": "e4af36d23023c97b3a5d9d94347bb6a84a9cd2c0"
   },
   "outputs": [
    {
     "data": {
      "text/plain": [
       "Education\n",
       "Graduate        78.175896\n",
       "Not Graduate    21.824104\n",
       "Name: proportion, dtype: float64"
      ]
     },
     "execution_count": 222,
     "metadata": {},
     "output_type": "execute_result"
    }
   ],
   "source": [
    "train[\"Education\"].value_counts(normalize=True)*100"
   ]
  },
  {
   "cell_type": "code",
   "execution_count": 223,
   "metadata": {
    "_uuid": "e8f7a19ca48a78b23c25bf8a04a8ebf7e174e0e0"
   },
   "outputs": [
    {
     "data": {
      "text/plain": [
       "<Axes: title={'center': 'Education'}, xlabel='Education'>"
      ]
     },
     "execution_count": 223,
     "metadata": {},
     "output_type": "execute_result"
    },
    {
     "data": {
      "image/png": "[encoded data removed]",
      "text/plain": [
       "<Figure size 640x480 with 1 Axes>"
      ]
     },
     "metadata": {},
     "output_type": "display_data"
    }
   ],
   "source": [
    "train[\"Education\"].value_counts(normalize=True).plot.bar(title = \"Education\")"
   ]
  },
  {
   "cell_type": "markdown",
   "metadata": {
    "_uuid": "8de010f77bd6db55428ee0829bda484f96e6db60"
   },
   "source": [
    "Total number of People : 614\n",
    "\n",
    "78% are Graduated and 22% are not Graduated"
   ]
  },
  {
   "cell_type": "markdown",
   "metadata": {
    "_uuid": "06020d0e583d1730ef7ca36551e096b9807a81ba"
   },
   "source": [
    "# Analysis on \"Property_Area\" variable :"
   ]
  },
  {
   "cell_type": "code",
   "execution_count": 224,
   "metadata": {
    "_uuid": "5473c754913bfd0f8ff7804e5a40dfe17a491d86"
   },
   "outputs": [
    {
     "data": {
      "text/plain": [
       "614"
      ]
     },
     "execution_count": 224,
     "metadata": {},
     "output_type": "execute_result"
    }
   ],
   "source": [
    "train[\"Property_Area\"].count()"
   ]
  },
  {
   "cell_type": "markdown",
   "metadata": {
    "_uuid": "296c42c65984ca1c06175c711ad5c3694ea4c455"
   },
   "source": [
    "Size of \"Property_Area\" variable : 614"
   ]
  },
  {
   "cell_type": "code",
   "execution_count": 225,
   "metadata": {
    "_uuid": "b61cad840f8a1330ca24f0e16756f3f79c8be65c"
   },
   "outputs": [
    {
     "data": {
      "text/plain": [
       "Property_Area\n",
       "Semiurban    233\n",
       "Urban        202\n",
       "Rural        179\n",
       "Name: count, dtype: int64"
      ]
     },
     "execution_count": 225,
     "metadata": {},
     "output_type": "execute_result"
    }
   ],
   "source": [
    "train[\"Property_Area\"].value_counts()"
   ]
  },
  {
   "cell_type": "markdown",
   "metadata": {
    "_uuid": "9044cabdce191e13aa63d1339d0b315fdc523771"
   },
   "source": [
    "Total number of People : 614\n",
    "\n",
    "People from Semiurban area : 233\n",
    "\n",
    "People from Urban area : 202\n",
    "\n",
    "People from Rural area : 179\n",
    "    "
   ]
  },
  {
   "cell_type": "code",
   "execution_count": 226,
   "metadata": {
    "_uuid": "dfd0daa2891f14cc82d2c621be68bb338d304606"
   },
   "outputs": [
    {
     "data": {
      "text/plain": [
       "Property_Area\n",
       "Semiurban    37.947883\n",
       "Urban        32.899023\n",
       "Rural        29.153094\n",
       "Name: proportion, dtype: float64"
      ]
     },
     "execution_count": 226,
     "metadata": {},
     "output_type": "execute_result"
    }
   ],
   "source": [
    "train[\"Property_Area\"].value_counts(normalize=True)*100"
   ]
  },
  {
   "cell_type": "code",
   "execution_count": 227,
   "metadata": {
    "_uuid": "6c6c8f8db1d22bd69fddfbf4b5fff47653a4107d"
   },
   "outputs": [
    {
     "data": {
      "text/plain": [
       "<Axes: title={'center': 'Property_Area'}, xlabel='Property_Area'>"
      ]
     },
     "execution_count": 227,
     "metadata": {},
     "output_type": "execute_result"
    },
    {
     "data": {
      "image/png": "[encoded data removed]",
      "text/plain": [
       "<Figure size 640x480 with 1 Axes>"
      ]
     },
     "metadata": {},
     "output_type": "display_data"
    }
   ],
   "source": [
    "train[\"Property_Area\"].value_counts(normalize=True).plot.bar(title=\"Property_Area\")"
   ]
  },
  {
   "cell_type": "markdown",
   "metadata": {
    "_uuid": "cad30f1e73cba001237ef4650e32c741afe71f10"
   },
   "source": [
    "38% people from Semiurban area\n",
    "\n",
    "33% people from Urban area\n",
    "\n",
    "29% people from Rural area"
   ]
  },
  {
   "cell_type": "markdown",
   "metadata": {
    "_uuid": "93104b0a05058d336004556796adc9c16541dd63"
   },
   "source": [
    "# Independent Variable (Numerical)"
   ]
  },
  {
   "cell_type": "markdown",
   "metadata": {
    "_uuid": "6bd2476eee9e0665849d93385cb0f216f7bc7d04"
   },
   "source": [
    "Numerical features: These features have numerical values (ApplicantIncome, CoapplicantIncome, LoanAmount, Loan_Amount_Term)"
   ]
  },
  {
   "cell_type": "markdown",
   "metadata": {
    "_uuid": "bc5b58d7c735cd06d21450d06d5a605bf7b87f46"
   },
   "source": [
    "# \"ApplicantIncome\" distribution :"
   ]
  },
  {
   "cell_type": "code",
   "execution_count": 228,
   "metadata": {
    "_uuid": "f947095ee79ede803a415810675121087fef00ff"
   },
   "outputs": [
    {
     "data": {
      "image/png": "[encoded data removed]",
      "text/plain": [
       "<Figure size 1600x500 with 2 Axes>"
      ]
     },
     "metadata": {},
     "output_type": "display_data"
    }
   ],
   "source": [
    "plt.figure(1)\n",
    "plt.subplot(121)\n",
    "sns.distplot(train[\"ApplicantIncome\"]);\n",
    "\n",
    "plt.subplot(122)\n",
    "train[\"ApplicantIncome\"].plot.box(figsize=(16,5))\n",
    "plt.show()"
   ]
  },
  {
   "cell_type": "markdown",
   "metadata": {
    "_uuid": "8ffa5588a51db431a0610d3e8890c18c7c856d30"
   },
   "source": [
    "It can be inferred that most of the data in the distribution of applicant income is towards left which means it is not normally distributed. We will try to make it normal in later sections as algorithms works better if the data is normally distributed.\n",
    "\n",
    "The boxplot confirms the presence of a lot of outliers/extreme values. This can be attributed to the income disparity in the society."
   ]
  },
  {
   "cell_type": "markdown",
   "metadata": {
    "_uuid": "8689c62bad73da42141e36cb9fb9105ab822154b"
   },
   "source": [
    "Part of this can be driven by the fact that we are looking at people with different education levels. Let us segregate them by Education:"
   ]
  },
  {
   "cell_type": "code",
   "execution_count": 229,
   "metadata": {
    "_uuid": "f7de79199eeafef79d545d3f008e584b9cf213fb"
   },
   "outputs": [
    {
     "data": {
      "image/png": "[encoded data removed]",
      "text/plain": [
       "<Figure size 640x480 with 1 Axes>"
      ]
     },
     "metadata": {},
     "output_type": "display_data"
    }
   ],
   "source": [
    "train.boxplot(column='ApplicantIncome',by=\"Education\" )\n",
    "plt.suptitle(\" \")\n",
    "plt.show()"
   ]
  },
  {
   "cell_type": "markdown",
   "metadata": {
    "_uuid": "f20c2f3fff9c5e66cfb9d8021b21e317f1a0078a"
   },
   "source": [
    "We can see that there are a higher number of graduates with very high incomes, which are appearing to be the outliers."
   ]
  },
  {
   "cell_type": "markdown",
   "metadata": {
    "_uuid": "88fab85ad99dad708c91fbf16ca80ac51ce21f6d"
   },
   "source": [
    "# Let’s look at the \"CoapplicantIncome\" distribution:\n"
   ]
  },
  {
   "cell_type": "code",
   "execution_count": 230,
   "metadata": {
    "_uuid": "78ceae0bb3459a3baf7b94d2886d10e1da3e349a",
    "scrolled": true
   },
   "outputs": [
    {
     "data": {
      "image/png": "[encoded data removed]",
      "text/plain": [
       "<Figure size 1600x500 with 2 Axes>"
      ]
     },
     "metadata": {},
     "output_type": "display_data"
    }
   ],
   "source": [
    "plt.figure(1)\n",
    "plt.subplot(121)\n",
    "sns.distplot(train[\"CoapplicantIncome\"]);\n",
    "\n",
    "plt.subplot(122)\n",
    "train[\"CoapplicantIncome\"].plot.box(figsize=(16,5))\n",
    "plt.show()"
   ]
  },
  {
   "cell_type": "markdown",
   "metadata": {
    "_uuid": "6c3886f52129e84b9a6e3aba1f8b922e28da14b6"
   },
   "source": [
    "We see a similar distribution as that of the applicant income. Majority of coapplicant’s income ranges from 0 to 5000. We also see a lot of outliers in the coapplicant income and it is not normally distributed."
   ]
  },
  {
   "cell_type": "markdown",
   "metadata": {
    "_uuid": "09024ce0065d29398cdb4eafea33990ef1e686da"
   },
   "source": [
    "# Let’s look at the distribution of \"LoanAmount\" variable :"
   ]
  },
  {
   "cell_type": "code",
   "execution_count": 231,
   "metadata": {
    "_uuid": "5948a1968c78125a467ca71cd05fb3cb1cf1dba0"
   },
   "outputs": [
    {
     "data": {
      "image/png": "[encoded data removed]",
      "text/plain": [
       "<Figure size 1600x500 with 2 Axes>"
      ]
     },
     "metadata": {},
     "output_type": "display_data"
    }
   ],
   "source": [
    "plt.figure(1)\n",
    "plt.subplot(121)\n",
    "df=train.dropna()\n",
    "sns.distplot(df['LoanAmount']);\n",
    "\n",
    "plt.subplot(122)\n",
    "train['LoanAmount'].plot.box(figsize=(16,5))\n",
    "\n",
    "plt.show()"
   ]
  },
  {
   "cell_type": "markdown",
   "metadata": {
    "_uuid": "331754993368ad6e09084e855f0dd3ea17c78670"
   },
   "source": [
    "We see a lot of outliers in this variable and the distribution is fairly normal. We will treat the outliers in later sections."
   ]
  },
  {
   "cell_type": "markdown",
   "metadata": {
    "_uuid": "cbc26856fe8e26a664b5e5a2ceb7fecc0c4dca03"
   },
   "source": [
    "# distribution of \"LoanAmountTerm\" variable :"
   ]
  },
  {
   "cell_type": "code",
   "execution_count": 232,
   "metadata": {
    "_uuid": "c393db36719526292ab83ec64e2a3764b45ef374"
   },
   "outputs": [
    {
     "data": {
      "image/png": "[encoded data removed]",
      "text/plain": [
       "<Figure size 1600x500 with 2 Axes>"
      ]
     },
     "metadata": {},
     "output_type": "display_data"
    }
   ],
   "source": [
    "plt.figure(1)\n",
    "plt.subplot(121)\n",
    "df = train.dropna()\n",
    "sns.distplot(df[\"Loan_Amount_Term\"]);\n",
    "\n",
    "plt.subplot(122)\n",
    "df[\"Loan_Amount_Term\"].plot.box(figsize=(16,5))\n",
    "plt.show()"
   ]
  },
  {
   "cell_type": "markdown",
   "metadata": {
    "_uuid": "c92abb1f4e6d692e772303d391a302702c8a486c"
   },
   "source": [
    "We see a lot of outliers in this variable and the distribution is fairly normal. We will treat the outliers in later sections."
   ]
  },
  {
   "cell_type": "markdown",
   "metadata": {
    "_uuid": "c762c9b17432c8cbe05566cd5e2eac362fd6d856"
   },
   "source": [
    "After looking at every variable individually in univariate analysis, we will now explore them again with respect to the target variable."
   ]
  },
  {
   "cell_type": "markdown",
   "metadata": {
    "_uuid": "57a6fdfba8cfc73650d87aa9873395fba137933d"
   },
   "source": [
    "# Categorical Independent Variable vs Target Variable"
   ]
  },
  {
   "cell_type": "markdown",
   "metadata": {
    "_uuid": "f3267971565c2a5e70456632a044db71006b429e"
   },
   "source": [
    "First of all we will find the relation between target variable and categorical independent variables. Let us look at the stacked bar plot now which will give us the proportion of approved and unapproved loans."
   ]
  },
  {
   "cell_type": "markdown",
   "metadata": {
    "_uuid": "3b1958af136fbe44c4ab702d5b2213e66ab15f87"
   },
   "source": [
    "# Relation between \"Loan_Status\" and \"Gender\""
   ]
  },
  {
   "cell_type": "code",
   "execution_count": 233,
   "metadata": {
    "_uuid": "f08f2c5054589c63eb3ac5c492140e53518aa051"
   },
   "outputs": [
    {
     "name": "stdout",
     "output_type": "stream",
     "text": [
      "Loan_Status    N    Y\n",
      "Gender               \n",
      "Female        37   75\n",
      "Male         150  339\n"
     ]
    },
    {
     "data": {
      "image/png": "[encoded data removed]",
      "text/plain": [
       "<Figure size 400x400 with 1 Axes>"
      ]
     },
     "metadata": {},
     "output_type": "display_data"
    }
   ],
   "source": [
    "print(pd.crosstab(train[\"Gender\"],train[\"Loan_Status\"]))\n",
    "Gender = pd.crosstab(train[\"Gender\"],train[\"Loan_Status\"])\n",
    "Gender.div(Gender.sum(1).astype(float),axis=0).plot(kind=\"bar\",stacked=True,figsize=(4,4))\n",
    "plt.xlabel(\"Gender\")\n",
    "plt.ylabel(\"Percentage\")\n",
    "plt.show()"
   ]
  },
  {
   "cell_type": "markdown",
   "metadata": {
    "_uuid": "b6ca4bbea9bd0071eae52fc4bdfff95cdea66835"
   },
   "source": [
    "Number of Female whose Loan was approed : 75\n",
    "\n",
    "Number of Male whose Loan was approed : 339\n",
    "\n",
    "Number of Female whose Loan was not approed : 37\n",
    "\n",
    "Number of Male whose Loan was not approed : 150\n",
    "\n",
    "Proportion of Male applicants is higher for the approved loans."
   ]
  },
  {
   "cell_type": "markdown",
   "metadata": {
    "_uuid": "6ade553afd44ea3ddbc3ded73c06ebf83a1a7559"
   },
   "source": [
    "# Relation between \"Loan_Status\" and \"Married\""
   ]
  },
  {
   "cell_type": "code",
   "execution_count": 234,
   "metadata": {
    "_uuid": "1749de913d87fed68a9c8631abc1cfef0af7afc9"
   },
   "outputs": [
    {
     "name": "stdout",
     "output_type": "stream",
     "text": [
      "Loan_Status    N    Y\n",
      "Married              \n",
      "No            79  134\n",
      "Yes          113  285\n"
     ]
    },
    {
     "data": {
      "image/png": "[encoded data removed]",
      "text/plain": [
       "<Figure size 400x400 with 1 Axes>"
      ]
     },
     "metadata": {},
     "output_type": "display_data"
    }
   ],
   "source": [
    "print(pd.crosstab(train[\"Married\"],train[\"Loan_Status\"]))\n",
    "Married=pd.crosstab(train[\"Married\"],train[\"Loan_Status\"])\n",
    "Married.div(Married.sum(1).astype(float),axis=0).plot(kind=\"bar\",stacked=True,figsize=(4,4))\n",
    "plt.xlabel(\"Married\")\n",
    "plt.ylabel(\"Percentage\")\n",
    "plt.show()"
   ]
  },
  {
   "cell_type": "markdown",
   "metadata": {
    "_uuid": "dc90ed3a4f11586e285b4bd0d6fd54de8ab49927"
   },
   "source": [
    "Number of married people whose Loan was approed : 285\n",
    "\n",
    "Number of married people whose Loan was not approed : 113\n",
    "\n",
    "Number of unmarried people whose Loan was approed : 134\n",
    "\n",
    "Number of unmarried people whose Loan was not approed : 79\n",
    "\n",
    "Proportion of Married applicants is higher for the approved loans."
   ]
  },
  {
   "cell_type": "markdown",
   "metadata": {
    "_uuid": "ab7bad7faa28d7033cc39cd885be07c275f0dbe2"
   },
   "source": [
    "# Relation between \"Loan_Status\" and \"Dependents\""
   ]
  },
  {
   "cell_type": "code",
   "execution_count": 235,
   "metadata": {
    "_uuid": "0bf88f9f09f98b1611fba3fa00b14f6ca7659f80"
   },
   "outputs": [
    {
     "name": "stdout",
     "output_type": "stream",
     "text": [
      "Loan_Status    N    Y\n",
      "Dependents           \n",
      "0            107  238\n",
      "1             36   66\n",
      "2             25   76\n",
      "3+            18   33\n"
     ]
    },
    {
     "data": {
      "image/png": "[encoded data removed]",
      "text/plain": [
       "<Figure size 400x400 with 1 Axes>"
      ]
     },
     "metadata": {},
     "output_type": "display_data"
    }
   ],
   "source": [
    "print(pd.crosstab(train['Dependents'],train[\"Loan_Status\"]))\n",
    "Dependents = pd.crosstab(train['Dependents'],train[\"Loan_Status\"])\n",
    "Dependents.div(Dependents.sum(1).astype(float),axis=0).plot(kind=\"bar\",stacked=True,figsize=(4,4))\n",
    "plt.xlabel(\"Dependents\")\n",
    "plt.ylabel(\"Percentage\")\n",
    "plt.show()"
   ]
  },
  {
   "cell_type": "markdown",
   "metadata": {
    "_uuid": "2d60fc0ddb8c66a0f62e0893a0da0d97d6c06851"
   },
   "source": [
    "Number of dependents on the loan applicant : 0  and Loan was approed : 238\n",
    "\n",
    "Number of dependents on the loan applicant : 0  and Loan was not approed : 107\n",
    "\n",
    "Number of dependents on the loan applicant : 1  and Loan was approed : 66\n",
    "\n",
    "Number of dependents on the loan applicant : 1  and Loan was not approed : 36\n",
    "\n",
    "Number of dependents on the loan applicant : 2  and Loan was approed : 76\n",
    "\n",
    "Number of dependents on the loan applicant : 2  and Loan was not approed : 25\n",
    "\n",
    "Number of dependents on the loan applicant : 3+  and Loan was approed : 33\n",
    "\n",
    "Number of dependents on the loan applicant : 3+  and Loan was not approed : 18\n",
    "\n",
    "Distribution of applicants with 1 or 3+ dependents is similar across both the categories of Loan_Status."
   ]
  },
  {
   "cell_type": "markdown",
   "metadata": {
    "_uuid": "f332993c8025970b16bf1e451d96cc8764e5be02"
   },
   "source": [
    "# Relation between \"Loan_Status\" and \"Education\""
   ]
  },
  {
   "cell_type": "code",
   "execution_count": 236,
   "metadata": {
    "_uuid": "20a72ae2ad187da86306df67e23c738efcb9878e"
   },
   "outputs": [
    {
     "name": "stdout",
     "output_type": "stream",
     "text": [
      "Loan_Status     N    Y\n",
      "Education             \n",
      "Graduate      140  340\n",
      "Not Graduate   52   82\n"
     ]
    },
    {
     "data": {
      "image/png": "[encoded data removed]",
      "text/plain": [
       "<Figure size 400x400 with 1 Axes>"
      ]
     },
     "metadata": {},
     "output_type": "display_data"
    }
   ],
   "source": [
    "print(pd.crosstab(train[\"Education\"],train[\"Loan_Status\"]))\n",
    "Education = pd.crosstab(train[\"Education\"],train[\"Loan_Status\"])\n",
    "Education.div(Education.sum(1).astype(float),axis=0).plot(kind=\"bar\",stacked=True,figsize=(4,4))\n",
    "plt.xlabel(\"Education\")\n",
    "plt.ylabel(\"Percentage\")\n",
    "plt.show()"
   ]
  },
  {
   "cell_type": "markdown",
   "metadata": {
    "_uuid": "a3c9106528e2501ba6f14779ecf9d5869b2a1cef"
   },
   "source": [
    "Number of people who are Graduate and Loan was approed : 340\n",
    "\n",
    "Number of people who are Graduate and Loan was no approed : 140\n",
    "\n",
    "Number of people who are Not Graduate and Loan was approed : 82\n",
    "\n",
    "Number of people who are Not Graduate and Loan was not approed : 52\n",
    "\n",
    "Proportion of Graduate applicants is higher for the approved loans.\n"
   ]
  },
  {
   "cell_type": "markdown",
   "metadata": {
    "_uuid": "ad20e92d7c7c9020018c8d9762f8cb0815e3de3c"
   },
   "source": [
    "# Relation between \"Loan_Status\" and \"Self_Employed\""
   ]
  },
  {
   "cell_type": "code",
   "execution_count": 237,
   "metadata": {
    "_uuid": "e78c865b29ccfd76eb0c72c7f7799526b13d4aa4"
   },
   "outputs": [
    {
     "name": "stdout",
     "output_type": "stream",
     "text": [
      "Loan_Status      N    Y\n",
      "Self_Employed          \n",
      "No             157  343\n",
      "Yes             26   56\n"
     ]
    },
    {
     "data": {
      "image/png": "[encoded data removed]",
      "text/plain": [
       "<Figure size 400x400 with 1 Axes>"
      ]
     },
     "metadata": {},
     "output_type": "display_data"
    }
   ],
   "source": [
    "print(pd.crosstab(train[\"Self_Employed\"],train[\"Loan_Status\"]))\n",
    "SelfEmployed = pd.crosstab(train[\"Self_Employed\"],train[\"Loan_Status\"])\n",
    "SelfEmployed.div(SelfEmployed.sum(1).astype(float),axis=0).plot(kind=\"bar\",stacked=True,figsize=(4,4))\n",
    "plt.xlabel(\"Self_Employed\")\n",
    "plt.ylabel(\"Percentage\")\n",
    "plt.show()"
   ]
  },
  {
   "cell_type": "markdown",
   "metadata": {
    "_uuid": "a2915397b5e7250e09e02600c9594957deafa6d5"
   },
   "source": [
    "People who are Self_Employed and Loan was approed : 56\n",
    "\n",
    "People who are Self_Employed and Loan was not approed : 26\n",
    "\n",
    "People who are not Self_Employed and Loan was approed : 343\n",
    "\n",
    "People who are not Self_Employed and Loan was not approed : 157\n",
    "\n",
    "There is nothing significant we can infer from Self_Employed vs Loan_Status plot."
   ]
  },
  {
   "cell_type": "markdown",
   "metadata": {
    "_uuid": "71fda39d4bc8b179db78a42de7951392b61e5a4c"
   },
   "source": [
    "# Relation between \"Loan_Status\" and \"Credit_History\""
   ]
  },
  {
   "cell_type": "code",
   "execution_count": 238,
   "metadata": {
    "_uuid": "1b70c061e794a7d3331f44b6d83408103bf959dd"
   },
   "outputs": [
    {
     "name": "stdout",
     "output_type": "stream",
     "text": [
      "Loan_Status      N    Y\n",
      "Credit_History         \n",
      "0.0             82    7\n",
      "1.0             97  378\n"
     ]
    },
    {
     "data": {
      "image/png": "[encoded data removed]",
      "text/plain": [
       "<Figure size 400x400 with 1 Axes>"
      ]
     },
     "metadata": {},
     "output_type": "display_data"
    }
   ],
   "source": [
    "print(pd.crosstab(train[\"Credit_History\"],train[\"Loan_Status\"]))\n",
    "CreditHistory = pd.crosstab(train[\"Credit_History\"],train[\"Loan_Status\"])\n",
    "CreditHistory.div(CreditHistory.sum(1).astype(float),axis=0).plot(kind=\"bar\",stacked=True,figsize=(4,4))\n",
    "plt.xlabel(\"Credit_History\")\n",
    "plt.ylabel(\"Percentage\")\n",
    "plt.show()"
   ]
  },
  {
   "cell_type": "markdown",
   "metadata": {
    "_uuid": "7b52face0dd82195454b1f3588f0d6666316191f"
   },
   "source": [
    "People with credit history as 1 and loan was approved : 378\n",
    "\n",
    "People with credit history as 1 and loan was not approved : 97\n",
    "\n",
    "People with credit history as 0 and loan was approved : 7\n",
    "\n",
    "People with credit history as 0 and loan was not approved : 82\n",
    "\n",
    "It seems people with credit history as 1 are more likely to get their loans approved."
   ]
  },
  {
   "cell_type": "markdown",
   "metadata": {
    "_uuid": "72de98e2d3e750590839aa2c4298b777a05f90a8"
   },
   "source": [
    "# Relation between \"Loan_Status\" and \"Property_Area\""
   ]
  },
  {
   "cell_type": "code",
   "execution_count": 239,
   "metadata": {
    "_uuid": "76ae79669bd2b4feea9feba66d096d0c88be6372"
   },
   "outputs": [
    {
     "name": "stdout",
     "output_type": "stream",
     "text": [
      "Loan_Status     N    Y\n",
      "Property_Area         \n",
      "Rural          69  110\n",
      "Semiurban      54  179\n",
      "Urban          69  133\n"
     ]
    },
    {
     "data": {
      "image/png": "[encoded data removed]",
      "text/plain": [
       "<Figure size 400x400 with 1 Axes>"
      ]
     },
     "metadata": {},
     "output_type": "display_data"
    }
   ],
   "source": [
    "print(pd.crosstab(train[\"Property_Area\"],train[\"Loan_Status\"]))\n",
    "PropertyArea = pd.crosstab(train[\"Property_Area\"],train[\"Loan_Status\"])\n",
    "PropertyArea.div(PropertyArea.sum(1).astype(float),axis=0).plot(kind=\"bar\",stacked=True,figsize=(4,4))\n",
    "plt.xlabel(\"Property_Area\")\n",
    "plt.ylabel(\"Loan_Status\")\n",
    "plt.show()"
   ]
  },
  {
   "cell_type": "markdown",
   "metadata": {
    "_uuid": "e1c5b1fc8e99740c9a02c8df0fadc292533c94f5"
   },
   "source": [
    "People who are from Rural area and loan was approved : 110\n",
    "\n",
    "People who are from Rural area and loan was not approved : 69\n",
    "\n",
    "People who are from Semiurban area and loan was approved : 179\n",
    "\n",
    "People who are from Semiurban area and loan was not approved : 54\n",
    "\n",
    "People who are from Urban area and loan was approved : 133\n",
    "\n",
    "People who are from Semiurban area and loan was not approved : 69\n",
    "\n",
    "Proportion of loans getting approved in semiurban area is higher as compared to that in rural or urban areas."
   ]
  },
  {
   "cell_type": "markdown",
   "metadata": {
    "_uuid": "2580c98dec55229e437160afe633093528f8a7a0"
   },
   "source": [
    "# Numerical Independent Variable vs Target Variable"
   ]
  },
  {
   "cell_type": "markdown",
   "metadata": {
    "_uuid": "29a0804ed130c97fe8eb00592ab131d30bfc0c16"
   },
   "source": [
    "# Relation between \"Loan_Status\" and \"Income\""
   ]
  },
  {
   "cell_type": "markdown",
   "metadata": {
    "_uuid": "1f2ef9186de6e39d2685b9ee92edb2879825ed11"
   },
   "source": [
    "We will try to find the mean income of people for which the loan has been approved vs the mean income of people for which the loan has not been approved."
   ]
  },
  {
   "cell_type": "code",
   "execution_count": 240,
   "metadata": {
    "_uuid": "e45c4ab0b708d67de708b9af4c5df9baab34efb4"
   },
   "outputs": [
    {
     "data": {
      "text/plain": [
       "<Axes: xlabel='Loan_Status'>"
      ]
     },
     "execution_count": 240,
     "metadata": {},
     "output_type": "execute_result"
    },
    {
     "data": {
      "image/png": "[encoded data removed]",
      "text/plain": [
       "<Figure size 640x480 with 1 Axes>"
      ]
     },
     "metadata": {},
     "output_type": "display_data"
    }
   ],
   "source": [
    "train.groupby(\"Loan_Status\")['ApplicantIncome'].mean().plot.bar()"
   ]
  },
  {
   "cell_type": "markdown",
   "metadata": {
    "_uuid": "d6a67d71cf240bb589609fe504947d26d4561dbd"
   },
   "source": [
    "Here the y-axis represents the mean applicant income. We don’t see any change in the mean income.\n",
    "So, let’s make bins for the applicant income variable based on the values in it and analyze the corresponding loan status for each bin."
   ]
  },
  {
   "cell_type": "code",
   "execution_count": 241,
   "metadata": {
    "_uuid": "ef1c27d89ba1a897bd5a7aad82a95c7f3ccb3df0"
   },
   "outputs": [],
   "source": [
    "bins=[0,2500,4000,6000,81000]\n",
    "group=['Low','Average','High', 'Very high']\n",
    "train['Income_bin']=pd.cut(df['ApplicantIncome'],bins,labels=group)\n"
   ]
  },
  {
   "cell_type": "code",
   "execution_count": 242,
   "metadata": {
    "_uuid": "30bc0e509468d9a7390bce42ac69a1f8109e05b5"
   },
   "outputs": [
    {
     "name": "stdout",
     "output_type": "stream",
     "text": [
      "Loan_Status   N    Y\n",
      "Income_bin          \n",
      "Low          26   57\n",
      "Average      51  123\n",
      "High         32   79\n",
      "Very high    39   73\n"
     ]
    },
    {
     "data": {
      "image/png": "[encoded data removed]",
      "text/plain": [
       "<Figure size 400x400 with 1 Axes>"
      ]
     },
     "metadata": {},
     "output_type": "display_data"
    }
   ],
   "source": [
    "print(pd.crosstab(train[\"Income_bin\"],train[\"Loan_Status\"]))\n",
    "Income_bin = pd.crosstab(train[\"Income_bin\"],train[\"Loan_Status\"])\n",
    "Income_bin.div(Income_bin.sum(1).astype(float),axis=0).plot(kind=\"bar\",stacked=True,figsize=(4,4))\n",
    "plt.xlabel(\"ApplicantIncome\")\n",
    "plt.ylabel(\"Percentage\")\n",
    "plt.show()"
   ]
  },
  {
   "cell_type": "markdown",
   "metadata": {
    "_uuid": "d6a2ea8f9f7e1575eada043928d299c4e89ac007"
   },
   "source": [
    "It can be inferred that Applicant income does not affect the chances of loan approval which contradicts our hypothesis in which we assumed that if the applicant income is high the chances of loan approval will also be high."
   ]
  },
  {
   "cell_type": "markdown",
   "metadata": {
    "_uuid": "27724a727f13859a6b3ea416393a1c43c43f50ed"
   },
   "source": [
    "We will analyze the coapplicant income and loan amount variable in similar way."
   ]
  },
  {
   "cell_type": "code",
   "execution_count": 243,
   "metadata": {
    "_uuid": "483fd6aed8a8c669ee3e864b42d7c6e7970e0bbb"
   },
   "outputs": [],
   "source": [
    "bins=[0,1000,3000,42000]\n",
    "group =['Low','Average','High']\n",
    "train['CoapplicantIncome_bin']=pd.cut(df[\"CoapplicantIncome\"],bins,labels=group)"
   ]
  },
  {
   "cell_type": "code",
   "execution_count": 244,
   "metadata": {
    "_uuid": "31e62f58910db5b3b5d2230eaf3ef372afb61b10"
   },
   "outputs": [
    {
     "name": "stdout",
     "output_type": "stream",
     "text": [
      "Loan_Status             N    Y\n",
      "CoapplicantIncome_bin         \n",
      "Low                     3   15\n",
      "Average                46  123\n",
      "High                   24   53\n"
     ]
    },
    {
     "data": {
      "image/png": "[encoded data removed]",
      "text/plain": [
       "<Figure size 400x400 with 1 Axes>"
      ]
     },
     "metadata": {},
     "output_type": "display_data"
    }
   ],
   "source": [
    "print(pd.crosstab(train[\"CoapplicantIncome_bin\"],train[\"Loan_Status\"]))\n",
    "CoapplicantIncome_Bin = pd.crosstab(train[\"CoapplicantIncome_bin\"],train[\"Loan_Status\"])\n",
    "CoapplicantIncome_Bin.div(CoapplicantIncome_Bin.sum(1).astype(float),axis=0).plot(kind='bar',stacked=True,figsize=(4,4))\n",
    "plt.xlabel(\"CoapplicantIncome\")\n",
    "plt.ylabel(\"Percentage\")\n",
    "plt.show()"
   ]
  },
  {
   "cell_type": "markdown",
   "metadata": {
    "_uuid": "e14f607b2bf538c130b796fc053c44cd9980ce7f"
   },
   "source": [
    "It shows that if coapplicant’s income is less the chances of loan approval are high. But this does not look right. The possible reason behind this may be that most of the applicants don’t have any coapplicant so the coapplicant income for such applicants is 0 and hence the loan approval is not dependent on it. So we can make a new variable in which we will combine the applicant’s and coapplicant’s income to visualize the combined effect of income on loan approval."
   ]
  },
  {
   "cell_type": "code",
   "execution_count": 245,
   "metadata": {
    "_uuid": "73961afc9809f827800960fc1f7367d5036ffb42"
   },
   "outputs": [],
   "source": [
    "train[\"TotalIncome\"]=train[\"ApplicantIncome\"]+train[\"CoapplicantIncome\"]"
   ]
  },
  {
   "cell_type": "code",
   "execution_count": 246,
   "metadata": {
    "_uuid": "c7728515c3cd6b5e1331d5b1a32be4bbbaaf1e0b"
   },
   "outputs": [],
   "source": [
    "bins =[0,2500,4000,6000,81000]\n",
    "group=['Low','Average','High','Very High']\n",
    "train[\"TotalIncome_bin\"]=pd.cut(train[\"TotalIncome\"],bins,labels=group)"
   ]
  },
  {
   "cell_type": "code",
   "execution_count": 247,
   "metadata": {
    "_uuid": "bcb2e258ff189b60740e01266667b3639072bb7c",
    "scrolled": true
   },
   "outputs": [
    {
     "name": "stdout",
     "output_type": "stream",
     "text": [
      "Loan_Status       N    Y\n",
      "TotalIncome_bin         \n",
      "Low              14   10\n",
      "Average          32   87\n",
      "High             65  159\n",
      "Very High        81  166\n"
     ]
    },
    {
     "data": {
      "image/png": "[encoded data removed]",
      "text/plain": [
       "<Figure size 200x200 with 1 Axes>"
      ]
     },
     "metadata": {},
     "output_type": "display_data"
    }
   ],
   "source": [
    "print(pd.crosstab(train[\"TotalIncome_bin\"],train[\"Loan_Status\"]))\n",
    "TotalIncome = pd.crosstab(train[\"TotalIncome_bin\"],train[\"Loan_Status\"])\n",
    "TotalIncome.div(TotalIncome.sum(1).astype(float),axis=0).plot(kind='bar',stacked=True,figsize=(2,2))\n",
    "plt.xlabel(\"TotalIncome\")\n",
    "plt.ylabel(\"Percentage\")\n",
    "plt.show()"
   ]
  },
  {
   "cell_type": "markdown",
   "metadata": {
    "_uuid": "1fccaa94a96e852360e4f8a255e3dd7a19f42de1"
   },
   "source": [
    "Whose TotalIncome was Low and loan was approved : 10\n",
    "\n",
    "Whose TotalIncome was Low and loan was not approved : 14\n",
    "\n",
    "Whose TotalIncome was Aerage and loan was apprvoed : 87\n",
    "\n",
    "Whose TotalIncome was Average and loan was not approved : 32\n",
    "\n",
    "Whose TotalIncome was High and loan was approved : 159\n",
    "\n",
    "Whose TotalIncome was High and loan was not approved : 65\n",
    "\n",
    "Whose TotalIncome was Very High and loan was approved : 166\n",
    "\n",
    "Whose TotalIncome was Very High and loan was not approed : 81\n",
    "\n",
    "We can see that Proportion of loans getting approved for applicants having low Total_Income is very less as compared to that of applicants with Average, High and Very High Income."
   ]
  },
  {
   "cell_type": "markdown",
   "metadata": {
    "_uuid": "3e6c02840914d1f82ebbf3d5e4f46fe25ed9d24e"
   },
   "source": [
    "# Relation between \"Loan_Status\" and \"Loan Amount\""
   ]
  },
  {
   "cell_type": "code",
   "execution_count": 248,
   "metadata": {
    "_uuid": "3ada6e2180487fd221049a81c00355f8a5ff08d3"
   },
   "outputs": [],
   "source": [
    "bins = [0,100,200,700]\n",
    "group=['Low','Average','High']\n",
    "train[\"LoanAmount_bin\"]=pd.cut(df[\"LoanAmount\"],bins,labels=group)"
   ]
  },
  {
   "cell_type": "code",
   "execution_count": 249,
   "metadata": {
    "_uuid": "c8107671682a446053c908a62806894cfc3c98e9"
   },
   "outputs": [
    {
     "name": "stdout",
     "output_type": "stream",
     "text": [
      "Loan_Status      N    Y\n",
      "LoanAmount_bin         \n",
      "Low             38   86\n",
      "Average         83  207\n",
      "High            27   39\n"
     ]
    },
    {
     "data": {
      "image/png": "[encoded data removed]",
      "text/plain": [
       "<Figure size 400x400 with 1 Axes>"
      ]
     },
     "metadata": {},
     "output_type": "display_data"
    }
   ],
   "source": [
    "print(pd.crosstab(train[\"LoanAmount_bin\"],train[\"Loan_Status\"]))\n",
    "LoanAmount=pd.crosstab(train[\"LoanAmount_bin\"],train[\"Loan_Status\"])\n",
    "LoanAmount.div(LoanAmount.sum(1).astype(float),axis=0).plot(kind='bar',stacked=True,figsize=(4,4))\n",
    "plt.xlabel(\"LoanAmount\")\n",
    "plt.ylabel(\"Percentage\")\n",
    "plt.show()"
   ]
  },
  {
   "cell_type": "markdown",
   "metadata": {
    "_uuid": "bfe923bd9537d0d943536155646e7d8c327edfc2"
   },
   "source": [
    "Whose Loan Amount was low and Loan was approved : 86\n",
    "\n",
    "Whose Loan Amount was low and Loan was not approved : 38\n",
    "\n",
    "Whose Loan Amount was Average and Loan was approved : 207\n",
    "\n",
    "Whose Loan Amount was Average and Loan was not approved : 83\n",
    "\n",
    "Whose Loan Amount was High and Loan was approved : 39\n",
    "\n",
    "Whose Loan Amount was High and Loan was not approved : 27\n",
    "\n",
    "It can be seen that the proportion of approved loans is higher for Low and Average Loan Amount as compared to that of High Loan Amount which supports our hypothesis in which we considered that the chances of loan approval will be high when the loan amount is less."
   ]
  },
  {
   "cell_type": "code",
   "execution_count": 250,
   "metadata": {
    "_uuid": "b08a7b528e14b537ee61c02215d453f7819b3d05"
   },
   "outputs": [],
   "source": [
    "train=train.drop([\"Income_bin\",\"CoapplicantIncome_bin\",\"LoanAmount_bin\",\"TotalIncome\",\"TotalIncome_bin\"],axis=1)"
   ]
  },
  {
   "cell_type": "code",
   "execution_count": 251,
   "metadata": {
    "_uuid": "80f3981c7945c7a4e7c08cc953f64f9caa5b9b1a"
   },
   "outputs": [],
   "source": [
    "#train['Dependents'].replace(('0', '1', '2', '3+'), (0, 1, 2, 3),inplace=True)\n",
    "#test['Dependents'].replace(('0', '1', '2', '3+'), (0, 1, 2, 3),inplace=True)\n",
    "train['Dependents'].replace('3+',3,inplace=True)\n",
    "test['Dependents'].replace('3+',3,inplace=True)\n",
    "train['Loan_Status'].replace('N', 0,inplace=True)\n",
    "train['Loan_Status'].replace('Y', 1,inplace=True)"
   ]
  },
  {
   "cell_type": "markdown",
   "metadata": {
    "_uuid": "82e9937838a888c7300daa1860f40e1ab16cdbe4"
   },
   "source": [
    "Now lets look at the correlation between all the numerical variables. We will use the heat map to visualize the correlation. Heatmaps visualize data through variations in coloring.\n",
    "The variables with darker color means their correlation is more."
   ]
  },
  {
   "cell_type": "code",
   "execution_count": 252,
   "metadata": {
    "_uuid": "903e5265051a7abb7de3f501be7bff9f35784781"
   },
   "outputs": [
    {
     "ename": "ValueError",
     "evalue": "could not convert string to float: 'LP001002'",
     "output_type": "error",
     "traceback": [
      "\u001b[1;31m---------------------------------------------------------------------------\u001b[0m",
      "\u001b[1;31mValueError\u001b[0m                                Traceback (most recent call last)",
      "Cell \u001b[1;32mIn[252], line 1\u001b[0m\n\u001b[1;32m----> 1\u001b[0m matrix \u001b[38;5;241m=\u001b[39m train\u001b[38;5;241m.\u001b[39mcorr()\n\u001b[0;32m      2\u001b[0m f, ax \u001b[38;5;241m=\u001b[39m plt\u001b[38;5;241m.\u001b[39msubplots(figsize\u001b[38;5;241m=\u001b[39m(\u001b[38;5;241m10\u001b[39m, \u001b[38;5;241m12\u001b[39m))\n\u001b[0;32m      3\u001b[0m sns\u001b[38;5;241m.\u001b[39mheatmap(matrix, vmax\u001b[38;5;241m=\u001b[39m\u001b[38;5;241m.8\u001b[39m, square\u001b[38;5;241m=\u001b[39m\u001b[38;5;28;01mTrue\u001b[39;00m, cmap\u001b[38;5;241m=\u001b[39m\u001b[38;5;124m\"\u001b[39m\u001b[38;5;124mBuPu\u001b[39m\u001b[38;5;124m\"\u001b[39m,annot\u001b[38;5;241m=\u001b[39m\u001b[38;5;28;01mTrue\u001b[39;00m)\n",
      "File \u001b[1;32m~\\anaconda3\\Lib\\site-packages\\pandas\\core\\frame.py:10054\u001b[0m, in \u001b[0;36mDataFrame.corr\u001b[1;34m(self, method, min_periods, numeric_only)\u001b[0m\n\u001b[0;32m  10052\u001b[0m cols \u001b[38;5;241m=\u001b[39m data\u001b[38;5;241m.\u001b[39mcolumns\n\u001b[0;32m  10053\u001b[0m idx \u001b[38;5;241m=\u001b[39m cols\u001b[38;5;241m.\u001b[39mcopy()\n\u001b[1;32m> 10054\u001b[0m mat \u001b[38;5;241m=\u001b[39m data\u001b[38;5;241m.\u001b[39mto_numpy(dtype\u001b[38;5;241m=\u001b[39m\u001b[38;5;28mfloat\u001b[39m, na_value\u001b[38;5;241m=\u001b[39mnp\u001b[38;5;241m.\u001b[39mnan, copy\u001b[38;5;241m=\u001b[39m\u001b[38;5;28;01mFalse\u001b[39;00m)\n\u001b[0;32m  10056\u001b[0m \u001b[38;5;28;01mif\u001b[39;00m method \u001b[38;5;241m==\u001b[39m \u001b[38;5;124m\"\u001b[39m\u001b[38;5;124mpearson\u001b[39m\u001b[38;5;124m\"\u001b[39m:\n\u001b[0;32m  10057\u001b[0m     correl \u001b[38;5;241m=\u001b[39m libalgos\u001b[38;5;241m.\u001b[39mnancorr(mat, minp\u001b[38;5;241m=\u001b[39mmin_periods)\n",
      "File \u001b[1;32m~\\anaconda3\\Lib\\site-packages\\pandas\\core\\frame.py:1838\u001b[0m, in \u001b[0;36mDataFrame.to_numpy\u001b[1;34m(self, dtype, copy, na_value)\u001b[0m\n\u001b[0;32m   1836\u001b[0m \u001b[38;5;28;01mif\u001b[39;00m dtype \u001b[38;5;129;01mis\u001b[39;00m \u001b[38;5;129;01mnot\u001b[39;00m \u001b[38;5;28;01mNone\u001b[39;00m:\n\u001b[0;32m   1837\u001b[0m     dtype \u001b[38;5;241m=\u001b[39m np\u001b[38;5;241m.\u001b[39mdtype(dtype)\n\u001b[1;32m-> 1838\u001b[0m result \u001b[38;5;241m=\u001b[39m \u001b[38;5;28mself\u001b[39m\u001b[38;5;241m.\u001b[39m_mgr\u001b[38;5;241m.\u001b[39mas_array(dtype\u001b[38;5;241m=\u001b[39mdtype, copy\u001b[38;5;241m=\u001b[39mcopy, na_value\u001b[38;5;241m=\u001b[39mna_value)\n\u001b[0;32m   1839\u001b[0m \u001b[38;5;28;01mif\u001b[39;00m result\u001b[38;5;241m.\u001b[39mdtype \u001b[38;5;129;01mis\u001b[39;00m \u001b[38;5;129;01mnot\u001b[39;00m dtype:\n\u001b[0;32m   1840\u001b[0m     result \u001b[38;5;241m=\u001b[39m np\u001b[38;5;241m.\u001b[39marray(result, dtype\u001b[38;5;241m=\u001b[39mdtype, copy\u001b[38;5;241m=\u001b[39m\u001b[38;5;28;01mFalse\u001b[39;00m)\n",
      "File \u001b[1;32m~\\anaconda3\\Lib\\site-packages\\pandas\\core\\internals\\managers.py:1732\u001b[0m, in \u001b[0;36mBlockManager.as_array\u001b[1;34m(self, dtype, copy, na_value)\u001b[0m\n\u001b[0;32m   1730\u001b[0m         arr\u001b[38;5;241m.\u001b[39mflags\u001b[38;5;241m.\u001b[39mwriteable \u001b[38;5;241m=\u001b[39m \u001b[38;5;28;01mFalse\u001b[39;00m\n\u001b[0;32m   1731\u001b[0m \u001b[38;5;28;01melse\u001b[39;00m:\n\u001b[1;32m-> 1732\u001b[0m     arr \u001b[38;5;241m=\u001b[39m \u001b[38;5;28mself\u001b[39m\u001b[38;5;241m.\u001b[39m_interleave(dtype\u001b[38;5;241m=\u001b[39mdtype, na_value\u001b[38;5;241m=\u001b[39mna_value)\n\u001b[0;32m   1733\u001b[0m     \u001b[38;5;66;03m# The underlying data was copied within _interleave, so no need\u001b[39;00m\n\u001b[0;32m   1734\u001b[0m     \u001b[38;5;66;03m# to further copy if copy=True or setting na_value\u001b[39;00m\n\u001b[0;32m   1736\u001b[0m \u001b[38;5;28;01mif\u001b[39;00m na_value \u001b[38;5;129;01mis\u001b[39;00m \u001b[38;5;129;01mnot\u001b[39;00m lib\u001b[38;5;241m.\u001b[39mno_default:\n",
      "File \u001b[1;32m~\\anaconda3\\Lib\\site-packages\\pandas\\core\\internals\\managers.py:1794\u001b[0m, in \u001b[0;36mBlockManager._interleave\u001b[1;34m(self, dtype, na_value)\u001b[0m\n\u001b[0;32m   1792\u001b[0m     \u001b[38;5;28;01melse\u001b[39;00m:\n\u001b[0;32m   1793\u001b[0m         arr \u001b[38;5;241m=\u001b[39m blk\u001b[38;5;241m.\u001b[39mget_values(dtype)\n\u001b[1;32m-> 1794\u001b[0m     result[rl\u001b[38;5;241m.\u001b[39mindexer] \u001b[38;5;241m=\u001b[39m arr\n\u001b[0;32m   1795\u001b[0m     itemmask[rl\u001b[38;5;241m.\u001b[39mindexer] \u001b[38;5;241m=\u001b[39m \u001b[38;5;241m1\u001b[39m\n\u001b[0;32m   1797\u001b[0m \u001b[38;5;28;01mif\u001b[39;00m \u001b[38;5;129;01mnot\u001b[39;00m itemmask\u001b[38;5;241m.\u001b[39mall():\n",
      "\u001b[1;31mValueError\u001b[0m: could not convert string to float: 'LP001002'"
     ]
    }
   ],
   "source": [
    "matrix = train.corr()\n",
    "f, ax = plt.subplots(figsize=(10, 12))\n",
    "sns.heatmap(matrix, vmax=.8, square=True, cmap=\"BuPu\",annot=True);"
   ]
  },
  {
   "cell_type": "markdown",
   "metadata": {
    "_uuid": "24d53f8f20c42ec9003ade811f7c4cda72bafd6b"
   },
   "source": [
    "We see that the most correlated variables are (ApplicantIncome - LoanAmount) and (Credit_History - Loan_Status)."
   ]
  },
  {
   "cell_type": "markdown",
   "metadata": {
    "_uuid": "0ad355ad4e43fb5a904eef7ddf8c82ec03179eec"
   },
   "source": [
    "# Missing Value and Outlier Treatment"
   ]
  },
  {
   "cell_type": "markdown",
   "metadata": {
    "_uuid": "a1be6f32fadeea6a9728283b8a0fe32be711ae40"
   },
   "source": [
    "After exploring all the variables in our data, we can now impute the missing values and treat the outliers because missing data and outliers can have adverse effect on the model performance."
   ]
  },
  {
   "cell_type": "markdown",
   "metadata": {
    "_uuid": "8455d9028e259c95566cf828a1ca13bd99b49fa5"
   },
   "source": [
    "# Missing value imputation"
   ]
  },
  {
   "cell_type": "markdown",
   "metadata": {
    "_uuid": "f588dc000527767c768f9a33bad9e91783db6333"
   },
   "source": [
    "Let’s list out feature-wise count of missing values."
   ]
  },
  {
   "cell_type": "code",
   "execution_count": null,
   "metadata": {
    "_uuid": "544dbbde4536fc9a575e4a178b5c6d83cc1689a9"
   },
   "outputs": [],
   "source": [
    "train.isnull().sum()"
   ]
  },
  {
   "cell_type": "markdown",
   "metadata": {
    "_uuid": "eabe4c0ab6e1f881eda4aa582f66e4a735f39a34"
   },
   "source": [
    "There are missing values in Gender, Married, Dependents, Self_Employed, LoanAmount, Loan_Amount_Term and Credit_History features."
   ]
  },
  {
   "cell_type": "markdown",
   "metadata": {
    "_uuid": "16693011afaa2de451480016337eddbfd1eea2d2"
   },
   "source": [
    "We will treat the missing values in all the features one by one.\n",
    "\n",
    "We can consider these methods to fill the missing values:\n",
    "\n",
    "For numerical variables: imputation using mean or median\n",
    "    \n",
    "For categorical variables: imputation using mode"
   ]
  },
  {
   "cell_type": "markdown",
   "metadata": {
    "_uuid": "a0d097654ada2a2510f5005fb78fc41fc9b25c55"
   },
   "source": [
    "There are very less missing values in Gender, Married, Dependents, Credit_History and Self_Employed features so we can fill them using the mode of the features"
   ]
  },
  {
   "cell_type": "code",
   "execution_count": null,
   "metadata": {
    "_uuid": "9eabedbb9a79ccfb3202a710310d9ee1efcf1422"
   },
   "outputs": [],
   "source": [
    "train[\"Gender\"].fillna(train[\"Gender\"].mode()[0],inplace=True)\n",
    "train[\"Married\"].fillna(train[\"Married\"].mode()[0],inplace=True)\n",
    "train['Dependents'].fillna(train[\"Dependents\"].mode()[0],inplace=True)\n",
    "train[\"Self_Employed\"].fillna(train[\"Self_Employed\"].mode()[0],inplace=True)\n",
    "train[\"Credit_History\"].fillna(train[\"Credit_History\"].mode()[0],inplace=True)"
   ]
  },
  {
   "cell_type": "markdown",
   "metadata": {
    "_uuid": "b7fe48aa5e2cbda85180bc5890e82f90ffa0d085"
   },
   "source": [
    "Now let’s try to find a way to fill the missing values in Loan_Amount_Term. \n",
    "We will look at the value count of the Loan amount term variable."
   ]
  },
  {
   "cell_type": "code",
   "execution_count": null,
   "metadata": {
    "_uuid": "4e21c285a2ae24c503340bd879bbcc7d4cae981b"
   },
   "outputs": [],
   "source": [
    "train[\"Loan_Amount_Term\"].value_counts()"
   ]
  },
  {
   "cell_type": "markdown",
   "metadata": {
    "_uuid": "a2f40d0815233bfae8e64a827b9be9b47a3f1cd4"
   },
   "source": [
    "It can be seen that in loan amount term variable, the value of 360 is repeating the most.\n",
    "So we will replace the missing values in this variable using the mode of this variable."
   ]
  },
  {
   "cell_type": "code",
   "execution_count": null,
   "metadata": {
    "_uuid": "a161e686deffba5e97e1c22b7887e4c32a77e5a4"
   },
   "outputs": [],
   "source": [
    "train[\"Loan_Amount_Term\"].fillna(train[\"Loan_Amount_Term\"].mode()[0],inplace=True)"
   ]
  },
  {
   "cell_type": "code",
   "execution_count": null,
   "metadata": {
    "_uuid": "9ed30d4d201957de3a05fab51c779ac2f377951d"
   },
   "outputs": [],
   "source": [
    "train[\"Loan_Amount_Term\"].value_counts()"
   ]
  },
  {
   "cell_type": "markdown",
   "metadata": {
    "_uuid": "3cf07efa3a942c2b3b2f70e8e303799d0dd4d569"
   },
   "source": [
    "Now we will see the LoanAmount variable. As it is a numerical variable, we can use mean or median to impute the missing values.\n",
    "\n",
    "We will use median to fill the null values as earlier we saw that loan amount have outliers so the mean will not be the proper approach as it is highly affected by the presence of outliers."
   ]
  },
  {
   "cell_type": "code",
   "execution_count": null,
   "metadata": {
    "_uuid": "2bdd50ebf4bccef3985fe008d642783f888be23d"
   },
   "outputs": [],
   "source": [
    "train[\"LoanAmount\"].fillna(train[\"LoanAmount\"].median(),inplace=True)"
   ]
  },
  {
   "cell_type": "markdown",
   "metadata": {
    "_uuid": "ba01047b03b5bf354d740f560d9a30fe69b9ce14"
   },
   "source": [
    "Now lets check whether all the missing values are filled in the dataset."
   ]
  },
  {
   "cell_type": "code",
   "execution_count": null,
   "metadata": {
    "_uuid": "dd0c936329a55d8c83e77d47c3182f169df1f3f2"
   },
   "outputs": [],
   "source": [
    "train.isnull().sum()"
   ]
  },
  {
   "cell_type": "markdown",
   "metadata": {
    "_uuid": "b0eee31c491d9b161ff67a938c631225f507c459"
   },
   "source": [
    "As we can see that all the missing values have been filled in the train dataset.\n",
    "\n",
    "Let’s fill all the missing values in the test dataset too with the same approach"
   ]
  },
  {
   "cell_type": "code",
   "execution_count": null,
   "metadata": {
    "_uuid": "263dcadcfc10e2e40c7b9dfd30ca4a5ffb878a78"
   },
   "outputs": [],
   "source": [
    "test.isnull().sum()"
   ]
  },
  {
   "cell_type": "code",
   "execution_count": null,
   "metadata": {
    "_uuid": "24f38a60698e499a3b664dd2514d423924ff9ce3"
   },
   "outputs": [],
   "source": [
    "test[\"Gender\"].fillna(test[\"Gender\"].mode()[0],inplace=True)\n",
    "test['Dependents'].fillna(test[\"Dependents\"].mode()[0],inplace=True)\n",
    "test[\"Self_Employed\"].fillna(test[\"Self_Employed\"].mode()[0],inplace=True)\n",
    "test[\"Loan_Amount_Term\"].fillna(test[\"Loan_Amount_Term\"].mode()[0],inplace=True)\n",
    "test[\"Credit_History\"].fillna(test[\"Credit_History\"].mode()[0],inplace=True)\n",
    "test[\"LoanAmount\"].fillna(test[\"LoanAmount\"].median(),inplace=True)"
   ]
  },
  {
   "cell_type": "code",
   "execution_count": null,
   "metadata": {
    "_uuid": "04c601fd62efc49d50d298d1ccd57276df91c257"
   },
   "outputs": [],
   "source": [
    "test.isnull().sum()"
   ]
  },
  {
   "cell_type": "code",
   "execution_count": null,
   "metadata": {
    "_uuid": "871147d297f1433e111ba7a557619b80f360b78a"
   },
   "outputs": [],
   "source": [
    "sns.distplot(train[\"LoanAmount\"]);"
   ]
  },
  {
   "cell_type": "code",
   "execution_count": null,
   "metadata": {
    "_uuid": "11ad787aedb80d37d0b6289cb59708baadda69c7"
   },
   "outputs": [],
   "source": [
    "train['LoanAmount'].hist(bins=20)"
   ]
  },
  {
   "cell_type": "markdown",
   "metadata": {
    "_uuid": "523fb83cfc4526269d37d4ccf7a71fe1187adae1"
   },
   "source": [
    "Due to these outliers bulk of the data in the loan amount is at the left and the right tail is longer. This is called right skewness.\n",
    "\n",
    "One way to remove the skewness is by doing the log transformation. As we take the log transformation, it does not affect the smaller values much, but reduces the larger values. \n",
    "\n",
    "So, we get a distribution similar to normal distribution."
   ]
  },
  {
   "cell_type": "markdown",
   "metadata": {
    "_uuid": "611a9e2309fd0e6d6836b87ed504f4a55facdb70"
   },
   "source": [
    "Let’s visualize the effect of log transformation. \n",
    "\n",
    "We will do the similar changes to the test file simultaneously."
   ]
  },
  {
   "cell_type": "code",
   "execution_count": null,
   "metadata": {
    "_uuid": "b99858ec729849d9332039300a2a364346341718"
   },
   "outputs": [],
   "source": [
    "train['LoanAmount_log'] = np.log(train['LoanAmount'])\n",
    "train['LoanAmount_log'].hist(bins=20)"
   ]
  },
  {
   "cell_type": "code",
   "execution_count": null,
   "metadata": {
    "_uuid": "c50caf9c187a52150b1ea8c95f4ddf1a5a4f7fad"
   },
   "outputs": [],
   "source": [
    "sns.distplot(train[\"LoanAmount_log\"])"
   ]
  },
  {
   "cell_type": "markdown",
   "metadata": {
    "_uuid": "21e592e29c74b06cb861f93c473ced879c73c333"
   },
   "source": [
    "Let's have a look in test set [LoanAmount]"
   ]
  },
  {
   "cell_type": "code",
   "execution_count": null,
   "metadata": {
    "_uuid": "3ed949305bdd583b484ecc4138648a0320b2e567"
   },
   "outputs": [],
   "source": [
    "test[\"LoanAmount_log\"]=np.log(train[\"LoanAmount\"])\n",
    "test['LoanAmount_log'].hist(bins=20)"
   ]
  },
  {
   "cell_type": "code",
   "execution_count": null,
   "metadata": {
    "_uuid": "db7eb58dc1e727cd7be59ac6acf00b09e91399eb"
   },
   "outputs": [],
   "source": [
    "sns.distplot(test[\"LoanAmount_log\"])"
   ]
  },
  {
   "cell_type": "code",
   "execution_count": null,
   "metadata": {
    "_uuid": "839ac00d5e05e0e0d3d63733f6c2634a7554f261"
   },
   "outputs": [],
   "source": [
    "train[\"TotalIncome\"]=train[\"ApplicantIncome\"]+train[\"CoapplicantIncome\"]"
   ]
  },
  {
   "cell_type": "markdown",
   "metadata": {
    "_uuid": "7ec36b3c4422d96e4ffdb8e4de733fd7594ea819"
   },
   "source": [
    "Just have a look of train dataset  \"TotalIncome\""
   ]
  },
  {
   "cell_type": "code",
   "execution_count": null,
   "metadata": {
    "_uuid": "92a1070057d4edaa0594757faf134d95b5d7a7d9"
   },
   "outputs": [],
   "source": [
    "train[[\"TotalIncome\"]].head()"
   ]
  },
  {
   "cell_type": "code",
   "execution_count": null,
   "metadata": {
    "_uuid": "7e298ca7ff9c59a6cefb64d68dc4f57d7a1b83ca"
   },
   "outputs": [],
   "source": [
    "test[\"TotalIncome\"]=test[\"ApplicantIncome\"]+test[\"CoapplicantIncome\"]"
   ]
  },
  {
   "cell_type": "markdown",
   "metadata": {
    "_uuid": "10b1f08c7a39ead00be7cd2433b8399285dc04ff"
   },
   "source": [
    "Just have a look of test dataset \"TotalIncome\""
   ]
  },
  {
   "cell_type": "code",
   "execution_count": null,
   "metadata": {
    "_uuid": "da1061025b530b59085d51a61cb06d2a4ff9c885"
   },
   "outputs": [],
   "source": [
    "test[[\"TotalIncome\"]].head()"
   ]
  },
  {
   "cell_type": "markdown",
   "metadata": {
    "_uuid": "367b7005e8e220cf26ca1fe3e65614b94028251f"
   },
   "source": [
    "Let’s check the distribution of train dataset Total Income."
   ]
  },
  {
   "cell_type": "code",
   "execution_count": null,
   "metadata": {
    "_uuid": "9a12d9e0f12af80ec13f556ca06d8f5f46aafdcd"
   },
   "outputs": [],
   "source": [
    "sns.distplot(train[\"TotalIncome\"])"
   ]
  },
  {
   "cell_type": "markdown",
   "metadata": {
    "_uuid": "806f2978e64c7996b4344316df861dbf3eb96c0b"
   },
   "source": [
    "We can see it is shifted towards left, i.e., the distribution is right skewed. So, let’s take the log transformation to make the distribution normal."
   ]
  },
  {
   "cell_type": "code",
   "execution_count": null,
   "metadata": {
    "_uuid": "42de653648b5851c1d470bd68a555a7ba1f7cc19"
   },
   "outputs": [],
   "source": [
    "train[\"TotalIncome_log\"]=np.log(train[\"TotalIncome\"])\n",
    "sns.distplot(train[\"TotalIncome_log\"])"
   ]
  },
  {
   "cell_type": "markdown",
   "metadata": {
    "_uuid": "9ac547e0d0eeb660894fe208900390a1d4e817e6"
   },
   "source": [
    "Now the distribution looks much closer to normal and effect of extreme values has been significantly subsided."
   ]
  },
  {
   "cell_type": "markdown",
   "metadata": {
    "_uuid": "26f92020dbf102181b0c85656112bfe3873fa9ad"
   },
   "source": [
    "Let’s check the distribution of test dataset Total Income."
   ]
  },
  {
   "cell_type": "code",
   "execution_count": null,
   "metadata": {
    "_uuid": "50fcbd225e643cbe28656aceb797da11caa2b044"
   },
   "outputs": [],
   "source": [
    "sns.distplot(test[\"TotalIncome\"])"
   ]
  },
  {
   "cell_type": "markdown",
   "metadata": {
    "_uuid": "abb05cfa9eafaa19d2406b396478d7c2dee67575"
   },
   "source": [
    "We can see it is shifted towards left, i.e., the distribution is right skewed. So, let’s take the log transformation to make the distribution normal."
   ]
  },
  {
   "cell_type": "code",
   "execution_count": null,
   "metadata": {
    "_uuid": "a52b28115435a12dafe5a5822c5a49ee8e2a1e59"
   },
   "outputs": [],
   "source": [
    "test[\"TotalIncome_log\"] = np.log(train[\"TotalIncome\"])\n",
    "sns.distplot(test[\"TotalIncome_log\"])"
   ]
  },
  {
   "cell_type": "markdown",
   "metadata": {
    "_uuid": "502ef0cfa52d56486514e9ee86c382371e1aeb3c"
   },
   "source": [
    "Now the distribution looks much closer to normal and effect of extreme values has been significantly subsided."
   ]
  },
  {
   "cell_type": "markdown",
   "metadata": {
    "_uuid": "c5bfbc9a427c0901130b1df2fcb8713ca0656c65"
   },
   "source": [
    "Now create the EMI feature."
   ]
  },
  {
   "cell_type": "code",
   "execution_count": null,
   "metadata": {
    "_uuid": "fe1adb837dde927351321482703d6b4752548b76"
   },
   "outputs": [],
   "source": [
    "train[\"EMI\"]=train[\"LoanAmount\"]/train[\"Loan_Amount_Term\"]\n",
    "test[\"EMI\"]=test[\"LoanAmount\"]/test[\"Loan_Amount_Term\"]"
   ]
  },
  {
   "cell_type": "markdown",
   "metadata": {
    "_uuid": "9c6a9457d213529fc4d465b727ba30a9ef9c7dfa"
   },
   "source": [
    "Have a look of train dataset \"EMI\""
   ]
  },
  {
   "cell_type": "code",
   "execution_count": null,
   "metadata": {
    "_uuid": "7a90f56a4f5a02dc2261ab8c2af48901ff98d302"
   },
   "outputs": [],
   "source": [
    "train[[\"EMI\"]].head()"
   ]
  },
  {
   "cell_type": "markdown",
   "metadata": {
    "_uuid": "0f7535b3bce63c6b45f19921ab12bb69b4e720a5"
   },
   "source": [
    "Again have a look of test dataset \"EMI\""
   ]
  },
  {
   "cell_type": "code",
   "execution_count": null,
   "metadata": {
    "_uuid": "ab40229fe4b215f15445a9d2b7bc79134c908815"
   },
   "outputs": [],
   "source": [
    "test[[\"EMI\"]].head()"
   ]
  },
  {
   "cell_type": "markdown",
   "metadata": {
    "_uuid": "06dbb9b5e213e7febfc59d3b40facae41982fafb"
   },
   "source": [
    "Let’s check the distribution of EMI variable."
   ]
  },
  {
   "cell_type": "code",
   "execution_count": null,
   "metadata": {
    "_uuid": "96c9f4519f97c78c9520f6f3ed12a3a7be128714"
   },
   "outputs": [],
   "source": [
    "sns.distplot(train[\"EMI\"])"
   ]
  },
  {
   "cell_type": "code",
   "execution_count": null,
   "metadata": {
    "_uuid": "0ceaae53ab6a66332183c0d0d98f888c341d708e"
   },
   "outputs": [],
   "source": [
    "sns.distplot(test[\"EMI\"])"
   ]
  },
  {
   "cell_type": "markdown",
   "metadata": {
    "_uuid": "190620fe79e20f7baac809f841e9ac5c0e0f6783"
   },
   "source": [
    "Let's create Balance Income feature now and check its distribution."
   ]
  },
  {
   "cell_type": "code",
   "execution_count": null,
   "metadata": {
    "_uuid": "79225d94e62119ff41a773e03f9c7ed0de3a917a"
   },
   "outputs": [],
   "source": [
    "train[\"Balance_Income\"] = train[\"TotalIncome\"]-train[\"EMI\"]*1000 # To make the units equal we multiply with 1000\n",
    "test[\"Balance_Income\"] = test[\"TotalIncome\"]-test[\"EMI\"]"
   ]
  },
  {
   "cell_type": "markdown",
   "metadata": {
    "_uuid": "b8dc498b3f7b3abe64d966768bcc766bbae222ea"
   },
   "source": [
    "Have a look of train dataset \"Balance Income\""
   ]
  },
  {
   "cell_type": "code",
   "execution_count": null,
   "metadata": {
    "_uuid": "93c3bf327493fb0c4f50e1896dd357a9f57f9b0b"
   },
   "outputs": [],
   "source": [
    "train[[\"Balance_Income\"]].head()"
   ]
  },
  {
   "cell_type": "markdown",
   "metadata": {
    "_uuid": "f3880f59d7475d93f801a4fa820f0432ea82db5f"
   },
   "source": [
    "Have a look of test dataset \"Balance Income\""
   ]
  },
  {
   "cell_type": "code",
   "execution_count": null,
   "metadata": {
    "_uuid": "2961d2d90d67a25994ddbb8ccbe8841e3f7d314c"
   },
   "outputs": [],
   "source": [
    "test[[\"Balance_Income\"]].head()"
   ]
  },
  {
   "cell_type": "markdown",
   "metadata": {
    "_uuid": "2f0c4a321caebeba7183c15e17a69e539921070a"
   },
   "source": [
    "Let us now drop the variables which we used to create these new features. Reason for doing this is, the correlation between those old features and these new features will be very high and logistic regression assumes that the variables are not highly correlated. We also wants to remove the noise from the dataset, so removing correlated features will help in reducing the noise too."
   ]
  },
  {
   "cell_type": "code",
   "execution_count": null,
   "metadata": {
    "_uuid": "be05278decfd15fa7c411df63d7367b7389cf4ae"
   },
   "outputs": [],
   "source": [
    "train=train.drop([\"ApplicantIncome\",\"CoapplicantIncome\",\"LoanAmount\",\"Loan_Amount_Term\"],axis=1)"
   ]
  },
  {
   "cell_type": "code",
   "execution_count": null,
   "metadata": {
    "_uuid": "91d691ef2acca708ce16a56e26f32199bd0fa3b0"
   },
   "outputs": [],
   "source": [
    "train.head()"
   ]
  },
  {
   "cell_type": "code",
   "execution_count": null,
   "metadata": {
    "_uuid": "7bee87af79d18bad23bdf208fa7408ad743c9f06"
   },
   "outputs": [],
   "source": [
    "test = test.drop([\"ApplicantIncome\",\"CoapplicantIncome\",\"LoanAmount\",\"Loan_Amount_Term\"],axis=1)"
   ]
  },
  {
   "cell_type": "code",
   "execution_count": null,
   "metadata": {
    "_uuid": "20387c78ef3f60beeff2b3f0f3091c81ac87b1f0"
   },
   "outputs": [],
   "source": [
    "test.head()"
   ]
  },
  {
   "cell_type": "markdown",
   "metadata": {
    "_uuid": "2ac67f190905441a35cd1e0b369039c343b10e59"
   },
   "source": [
    "Drop \"Loan_ID\""
   ]
  },
  {
   "cell_type": "code",
   "execution_count": null,
   "metadata": {
    "_uuid": "5d21b5d91e49e55129890a9b1c9b95f5692202c9"
   },
   "outputs": [],
   "source": [
    "train=train.drop(\"Loan_ID\",axis=1)\n",
    "test=test.drop(\"Loan_ID\",axis=1)"
   ]
  },
  {
   "cell_type": "markdown",
   "metadata": {
    "_uuid": "d10188399684bd37120de74ad0b66021c9170ae3"
   },
   "source": [
    "After drop train dataset will look :"
   ]
  },
  {
   "cell_type": "code",
   "execution_count": null,
   "metadata": {
    "_uuid": "41b4ee58f6501e227c32e678e8dd740ee72492f9"
   },
   "outputs": [],
   "source": [
    "train.head(3)"
   ]
  },
  {
   "cell_type": "markdown",
   "metadata": {
    "_uuid": "6c3d4f9a30f01645c1386aaed413b54e123e4c03"
   },
   "source": [
    "After drop test dataset will look :"
   ]
  },
  {
   "cell_type": "code",
   "execution_count": null,
   "metadata": {
    "_uuid": "ffd79add8826c39dbb729c7c7bb8e2fcde9dde58"
   },
   "outputs": [],
   "source": [
    "test.head(3)"
   ]
  },
  {
   "cell_type": "markdown",
   "metadata": {
    "_uuid": "4da0d513749f36e8c1de87a4877f2a637f42bc27"
   },
   "source": [
    "We will use scikit-learn (sklearn) for making different models which is an open source library for Python. It is one of the most efficient tool which contains many inbuilt functions that can be used for modeling in Python."
   ]
  },
  {
   "cell_type": "markdown",
   "metadata": {
    "_uuid": "744435df3f78972b9171cbf52efb9828013548cf"
   },
   "source": [
    "Sklearn requires the target variable in a separate dataset. So, we will drop our target variable from the train dataset and save it in another dataset."
   ]
  },
  {
   "cell_type": "markdown",
   "metadata": {
    "_uuid": "da641002381860e70256376127879e90f87d2446"
   },
   "source": [
    "droping the target variable \"Loan_Status\""
   ]
  },
  {
   "cell_type": "code",
   "execution_count": null,
   "metadata": {
    "_uuid": "c104efaf293248e4e3a5b887fde7d926440e0866"
   },
   "outputs": [],
   "source": [
    "X=train.drop(\"Loan_Status\",1)"
   ]
  },
  {
   "cell_type": "code",
   "execution_count": null,
   "metadata": {
    "_uuid": "19253f4905cf8e616003bd5d9ece39f5f8543795"
   },
   "outputs": [],
   "source": [
    "X.head(2)"
   ]
  },
  {
   "cell_type": "markdown",
   "metadata": {
    "_uuid": "b8a8e11f18cc64e60f06f0ff76ce720b16b5b370"
   },
   "source": [
    "save the target variable \"Loan_Status\" in another dataset"
   ]
  },
  {
   "cell_type": "code",
   "execution_count": null,
   "metadata": {
    "_uuid": "193d3661cbd73a672f5ea18db68a6ba279b06b06"
   },
   "outputs": [],
   "source": [
    "y=train[[\"Loan_Status\"]]"
   ]
  },
  {
   "cell_type": "code",
   "execution_count": null,
   "metadata": {
    "_uuid": "12954bd4adb6d51a736b625450a3d1c29ffe823b"
   },
   "outputs": [],
   "source": [
    "y.head(2)"
   ]
  },
  {
   "cell_type": "markdown",
   "metadata": {
    "_uuid": "6e953caa8b6703a1809af04fc70a99ac4ad0d8b6"
   },
   "source": [
    "Now we will make dummy variables for the categorical variables. Dummy variable turns categorical variables into a series of 0 and 1, making them lot easier to quantify and compare. \n",
    "\n",
    "Let us understand the process of dummies first:"
   ]
  },
  {
   "cell_type": "markdown",
   "metadata": {
    "_uuid": "9aaf423488821ee0ba6cf25067d7e8d26f15ec73"
   },
   "source": [
    "Consider the “Gender” variable. It has two classes, Male and Female.\n",
    "\n",
    "As logistic regression takes only the numerical values as input, we have to change male and female into numerical value.\n",
    "\n",
    "Once we apply dummies to this variable, it will convert the “Gender” variable into two variables(Gender_Male and Gender_Female),\n",
    "one for each class, i.e. Male and Female.\n",
    "\n",
    "\n",
    "Gender_Male will have a value of 0 if the gender is Female and a value of 1 if the gender is Male."
   ]
  },
  {
   "cell_type": "code",
   "execution_count": null,
   "metadata": {
    "_uuid": "47897cac8f4f1bc6bb0b76c0d5fb4e418561b1ee"
   },
   "outputs": [],
   "source": [
    "X = pd.get_dummies(X)"
   ]
  },
  {
   "cell_type": "code",
   "execution_count": null,
   "metadata": {
    "_uuid": "4ecdc1c4afdb305e39d237a19700e921fb871d3b"
   },
   "outputs": [],
   "source": [
    "X.head(3)"
   ]
  },
  {
   "cell_type": "code",
   "execution_count": null,
   "metadata": {
    "_uuid": "5849fb86b374237185ac491d155a6e52000c8c26"
   },
   "outputs": [],
   "source": [
    "train=pd.get_dummies(train)\n",
    "test=pd.get_dummies(test)"
   ]
  },
  {
   "cell_type": "code",
   "execution_count": null,
   "metadata": {
    "_uuid": "65d7d6185509c119f1cee79166cb0558d69f8713"
   },
   "outputs": [],
   "source": [
    "train.head(3)"
   ]
  },
  {
   "cell_type": "code",
   "execution_count": null,
   "metadata": {
    "_uuid": "b0b6fe929ee06556152b590f74037085624476ec"
   },
   "outputs": [],
   "source": [
    "test.head(3)"
   ]
  },
  {
   "cell_type": "markdown",
   "metadata": {
    "_uuid": "2619abfc26a29a1e685ecd7f0a37df7ae94b4f2c"
   },
   "source": [
    "Now we will train the model on training dataset and make predictions for the test dataset. But can we validate these predictions?\n",
    "One way of doing this is we can divide our train dataset into two parts:train and validation.\n",
    "We can train the model on this train part and using that make predictions for the validation part.\n",
    "In this way we can validate our predictions as we have the true predictions for the validation part (which we do not have for the test dataset)."
   ]
  },
  {
   "cell_type": "markdown",
   "metadata": {
    "_uuid": "56724b726ad64aef11a0f6dfa90a470cef2a634a"
   },
   "source": [
    "\n",
    "\n",
    "We will use the train_test_split function from sklearn to divide our train dataset. So, first let us import train_test_split."
   ]
  },
  {
   "cell_type": "code",
   "execution_count": null,
   "metadata": {
    "_uuid": "3a0ef20360693aa2dc4753424f04182b4f54b7bb"
   },
   "outputs": [],
   "source": [
    "from sklearn.model_selection import train_test_split"
   ]
  },
  {
   "cell_type": "code",
   "execution_count": null,
   "metadata": {
    "_uuid": "27ba6fc88f59953263ccb3804a893438370e647b"
   },
   "outputs": [],
   "source": [
    "x_train,x_cv,y_train,y_cv=train_test_split(X,y,test_size=0.3,random_state=1)"
   ]
  },
  {
   "cell_type": "markdown",
   "metadata": {
    "_uuid": "c1f8ce9b54cf71a8056dc21e4ab7d43653c57759"
   },
   "source": [
    "The dataset has been divided into training and validation part.\n",
    "\n",
    "70% data will use for train the model and rest of the 30% data will use for checking validation of the model. "
   ]
  },
  {
   "cell_type": "markdown",
   "metadata": {
    "_uuid": "7557d3aeb1981a5ce7b8309f0f51efd656f68a6b"
   },
   "source": [
    "# Logistic Regression"
   ]
  },
  {
   "cell_type": "markdown",
   "metadata": {
    "_uuid": "173efa1eda104ff6cdbb5751200625644924663a"
   },
   "source": [
    "Let's import LogisticRegression and accuracy_score from sklearn and fit the logistic regression model."
   ]
  },
  {
   "cell_type": "code",
   "execution_count": null,
   "metadata": {
    "_uuid": "ec196aaf363a59297c067bfe01f288de066e1544"
   },
   "outputs": [],
   "source": [
    "from sklearn.linear_model import LogisticRegression\n",
    "from sklearn.metrics import accuracy_score"
   ]
  },
  {
   "cell_type": "code",
   "execution_count": null,
   "metadata": {
    "_uuid": "eb1ffac44c357932290298b850f7a4ef4ab0569c"
   },
   "outputs": [],
   "source": [
    "logistic_model = LogisticRegression(random_state=1)"
   ]
  },
  {
   "cell_type": "code",
   "execution_count": null,
   "metadata": {
    "_uuid": "86ee315d51dafe52d2bff3dbb6be12270f0e1082"
   },
   "outputs": [],
   "source": [
    "logistic_model.fit(x_train,y_train)"
   ]
  },
  {
   "cell_type": "markdown",
   "metadata": {
    "_uuid": "31b3f7a159c00adbaf6fb913654369b5925142c8"
   },
   "source": [
    "Let’s predict the Loan_Status for validation set"
   ]
  },
  {
   "cell_type": "code",
   "execution_count": null,
   "metadata": {
    "_uuid": "4368bd0b148a47fcfda60fe1b1b2cebdd6857073"
   },
   "outputs": [],
   "source": [
    "pred_cv_logistic=logistic_model.predict(x_cv)"
   ]
  },
  {
   "cell_type": "markdown",
   "metadata": {
    "_uuid": "38b322e103d1513778803ee664876b8d45563eef"
   },
   "source": [
    "Now calculate how accurate our predictions are by calculating the accuracy."
   ]
  },
  {
   "cell_type": "code",
   "execution_count": null,
   "metadata": {
    "_uuid": "1848df46293ce9254398468e7f11485ec01d3843"
   },
   "outputs": [],
   "source": [
    "score_logistic =accuracy_score(pred_cv_logistic,y_cv)*100 "
   ]
  },
  {
   "cell_type": "code",
   "execution_count": null,
   "metadata": {
    "_uuid": "860581c8438aa107451f13c351522a7c976dbf61"
   },
   "outputs": [],
   "source": [
    "score_logistic"
   ]
  },
  {
   "cell_type": "markdown",
   "metadata": {
    "_uuid": "b60fa07995e333d08740823eff8b5e7de76a24f0"
   },
   "source": [
    "So our predictions are almost 79% accurate, i.e. we have identified 79% of the loan status correctly for our logistic regression model."
   ]
  },
  {
   "cell_type": "markdown",
   "metadata": {
    "_uuid": "a11387ca0a24e00333d1f183d70d6052dc5332b9"
   },
   "source": [
    "Let’s make predictions for the test dataset."
   ]
  },
  {
   "cell_type": "code",
   "execution_count": null,
   "metadata": {
    "_uuid": "90ca7a4591c33e435effe77ff5d9188f524bc4d3"
   },
   "outputs": [],
   "source": [
    "pred_test_logistic = logistic_model.predict(test)"
   ]
  },
  {
   "cell_type": "markdown",
   "metadata": {
    "_uuid": "336ae525f49ec3339092f8a598c9c1755b6e4064"
   },
   "source": [
    "# Decision Tree\n",
    "\n"
   ]
  },
  {
   "cell_type": "markdown",
   "metadata": {
    "_uuid": "a49ec57b6b6f166a38add32472ec71d9d3200f0c"
   },
   "source": [
    "Let's import Decison Tree Classifier"
   ]
  },
  {
   "cell_type": "code",
   "execution_count": null,
   "metadata": {
    "_uuid": "522ade5a0459f3c4948b7bcff4f9847694b84faa"
   },
   "outputs": [],
   "source": [
    "from sklearn.tree import DecisionTreeClassifier"
   ]
  },
  {
   "cell_type": "code",
   "execution_count": null,
   "metadata": {
    "_uuid": "156fdee4a0654591e7b87203c68b74599daf7845"
   },
   "outputs": [],
   "source": [
    "tree_model = DecisionTreeClassifier(random_state=1)\n"
   ]
  },
  {
   "cell_type": "markdown",
   "metadata": {
    "_uuid": "0c16fa61500654715e4171bf5be563301a41e035"
   },
   "source": [
    "Fit the model :"
   ]
  },
  {
   "cell_type": "code",
   "execution_count": null,
   "metadata": {
    "_uuid": "ef13a3ab13d3f3ebc4a1fac682be69a625d787a2"
   },
   "outputs": [],
   "source": [
    "tree_model.fit(x_train,y_train)"
   ]
  },
  {
   "cell_type": "code",
   "execution_count": null,
   "metadata": {
    "_uuid": "940612678c5d6f00e8f8600f0fe45510efba3e8c"
   },
   "outputs": [],
   "source": [
    "pred_cv_tree=tree_model.predict(x_cv)"
   ]
  },
  {
   "cell_type": "code",
   "execution_count": null,
   "metadata": {
    "_uuid": "4da1865f89d6ce4541ccff92d5feace408af37c0"
   },
   "outputs": [],
   "source": [
    "score_tree =accuracy_score(pred_cv_tree,y_cv)*100 "
   ]
  },
  {
   "cell_type": "code",
   "execution_count": null,
   "metadata": {
    "_uuid": "4066241b2e6c5312f949923b34b67808db42371b"
   },
   "outputs": [],
   "source": [
    "score_tree"
   ]
  },
  {
   "cell_type": "markdown",
   "metadata": {
    "_uuid": "981950c29feed3f3dc2ab50c419433d9a9f52237"
   },
   "source": [
    "our predictions are almost 71% accurate, i.e. we have identified 71% of the loan status correctly for our Decision tree model."
   ]
  },
  {
   "cell_type": "markdown",
   "metadata": {
    "_uuid": "83a491fdcc7aea177a678d85df79075970c0e1df"
   },
   "source": [
    "Let’s make predictions for the test dataset."
   ]
  },
  {
   "cell_type": "code",
   "execution_count": null,
   "metadata": {
    "_uuid": "6b66a08dfb3a92401c10584cf6f2d8e4459eb098"
   },
   "outputs": [],
   "source": [
    "pred_test_tree = tree_model.predict(test)"
   ]
  },
  {
   "cell_type": "markdown",
   "metadata": {
    "_uuid": "a5a2c47455cce2230a6a40fd2e32e2a84cce2ad7"
   },
   "source": [
    "# Random Forest"
   ]
  },
  {
   "cell_type": "markdown",
   "metadata": {
    "_uuid": "ee68d73f8c827c6cdfbf56ac979f34b1e19c27c2"
   },
   "source": [
    "i)RandomForest is a tree based bootstrapping algorithm wherein a certain no. of weak learners (decision trees) are combined to make a powerful prediction model."
   ]
  },
  {
   "cell_type": "markdown",
   "metadata": {
    "_uuid": "c496adff5ddcca9245fd90e2dab000b9cd31574b"
   },
   "source": [
    "ii)For every individual learner, a random sample of rows and a few randomly chosen variables are used to build a decision tree model."
   ]
  },
  {
   "cell_type": "markdown",
   "metadata": {
    "_uuid": "47c2ff7791c8ee627cb7daf4475b070eb4d64d73"
   },
   "source": [
    "iii)Final prediction can be a function of all the predictions made by the individual learners."
   ]
  },
  {
   "cell_type": "markdown",
   "metadata": {
    "_uuid": "75f978b46bb58395f638759b62f5d12e5286cc53"
   },
   "source": [
    "Let's import Random Forest Classifier"
   ]
  },
  {
   "cell_type": "code",
   "execution_count": null,
   "metadata": {
    "_uuid": "5479b44f67e76889f76ae2b2c47582b63279a177"
   },
   "outputs": [],
   "source": [
    "from sklearn.ensemble import RandomForestClassifier"
   ]
  },
  {
   "cell_type": "code",
   "execution_count": null,
   "metadata": {
    "_uuid": "53c0c99a4700cd4d0ed627c6ccffea55bfb087c6"
   },
   "outputs": [],
   "source": [
    "forest_model = RandomForestClassifier(random_state=1,max_depth=10,n_estimators=50)"
   ]
  },
  {
   "cell_type": "code",
   "execution_count": null,
   "metadata": {
    "_uuid": "380a6e70da7c565949392671b13ad4f954901f8b"
   },
   "outputs": [],
   "source": [
    "forest_model.fit(x_train,y_train)"
   ]
  },
  {
   "cell_type": "code",
   "execution_count": null,
   "metadata": {
    "_uuid": "8e73ed11cd5c399d43c0689e6addd0592c13940c"
   },
   "outputs": [],
   "source": [
    "pred_cv_forest=forest_model.predict(x_cv)"
   ]
  },
  {
   "cell_type": "code",
   "execution_count": null,
   "metadata": {
    "_uuid": "f59db4398c4d495336de62a70f7ecf84ed391b0d"
   },
   "outputs": [],
   "source": [
    "score_forest = accuracy_score(pred_cv_forest,y_cv)*100"
   ]
  },
  {
   "cell_type": "code",
   "execution_count": null,
   "metadata": {
    "_uuid": "2eca3472b46be138bd04a226ba6e169be694018f"
   },
   "outputs": [],
   "source": [
    "score_forest"
   ]
  },
  {
   "cell_type": "markdown",
   "metadata": {
    "_uuid": "c69a627d1eaeeecba6ae21ce627471744d1b17d3"
   },
   "source": [
    "our predictions are almost 78% accurate, i.e. we have identified 78% of the loan status correctly for our Random Forest model."
   ]
  },
  {
   "cell_type": "markdown",
   "metadata": {
    "_uuid": "00bb5ec5b75803fffc049e0598205e7883d39998"
   },
   "source": [
    "Let’s make predictions for the test dataset."
   ]
  },
  {
   "cell_type": "code",
   "execution_count": null,
   "metadata": {
    "_uuid": "ca0c59cdd4a614e94f1ac13218b167f9a739be81"
   },
   "outputs": [],
   "source": [
    "pred_test_forest=forest_model.predict(test)"
   ]
  },
  {
   "cell_type": "code",
   "execution_count": null,
   "metadata": {
    "_uuid": "d2447dc8d8c4b5298a6fe5de977162c85eb8ba16"
   },
   "outputs": [],
   "source": [
    "from sklearn.model_selection import GridSearchCV"
   ]
  },
  {
   "cell_type": "markdown",
   "metadata": {
    "_uuid": "24a94dc9c8670cddad597052e005dbcf57463c09"
   },
   "source": [
    "Provide range for max_depth from 1 to 20 with an interval of 2 and from 1 to 200 with an interval of 20 for n_estimators."
   ]
  },
  {
   "cell_type": "code",
   "execution_count": null,
   "metadata": {
    "_uuid": "bf4e8c32948e00b6422baa42f92005f034af75f6"
   },
   "outputs": [],
   "source": [
    "paramgrid = {'max_depth': list(range(1,20,2)),'n_estimators':list(range(1,200,20))}"
   ]
  },
  {
   "cell_type": "code",
   "execution_count": null,
   "metadata": {
    "_uuid": "5a2f77f5e4c28c65acae18fa0d3f3f1bc8a08ce6"
   },
   "outputs": [],
   "source": [
    "grid_search = GridSearchCV(RandomForestClassifier(random_state=1),paramgrid)"
   ]
  },
  {
   "cell_type": "markdown",
   "metadata": {
    "_uuid": "df58b8e496b3e58f2a97b025ae5972bd5a9c79bc"
   },
   "source": [
    "Fit the grid search model"
   ]
  },
  {
   "cell_type": "code",
   "execution_count": null,
   "metadata": {
    "_uuid": "a6ebf5fdb03acbb243330ebf8a891357a509db1a"
   },
   "outputs": [],
   "source": [
    "grid_search.fit(x_train,y_train)"
   ]
  },
  {
   "cell_type": "markdown",
   "metadata": {
    "_uuid": "e8c2156220ec632aa60da5e975cfccc390b9792a"
   },
   "source": [
    "Find out the optimized value"
   ]
  },
  {
   "cell_type": "code",
   "execution_count": null,
   "metadata": {
    "_uuid": "b8a532e0938f68181e77f5b7e7fd7bb36e00ddd0"
   },
   "outputs": [],
   "source": [
    "grid_search.best_estimator_"
   ]
  },
  {
   "cell_type": "markdown",
   "metadata": {
    "_uuid": "72fc4b8c1263411aa570ab522be0429981a2e014"
   },
   "source": [
    "The optimized value for the max_depth variable is 3 and for n_estimator is 101,random_state = 1. Now let’s build the model using these optimized values."
   ]
  },
  {
   "cell_type": "code",
   "execution_count": null,
   "metadata": {
    "_uuid": "a822c0dba5ff91f519da2cfced2cd4ae96d45dcb"
   },
   "outputs": [],
   "source": [
    "grid_forest_model = RandomForestClassifier(random_state=1,max_depth=3,n_estimators=101)"
   ]
  },
  {
   "cell_type": "code",
   "execution_count": null,
   "metadata": {
    "_uuid": "675164154ca17d4794650a779ebd81a840077f80"
   },
   "outputs": [],
   "source": [
    "grid_forest_model.fit(x_train,y_train)"
   ]
  },
  {
   "cell_type": "code",
   "execution_count": null,
   "metadata": {
    "_uuid": "0210c4aa2159bb26d5e7ecc6bcd5bcf2b8413a4c"
   },
   "outputs": [],
   "source": [
    "pred_grid_forest = grid_forest_model.predict(x_cv)"
   ]
  },
  {
   "cell_type": "code",
   "execution_count": null,
   "metadata": {
    "_uuid": "6400b3bc2c27a4a61525d7757442d6478d57f09c"
   },
   "outputs": [],
   "source": [
    "score_grid_forest = accuracy_score(pred_grid_forest,y_cv)*100"
   ]
  },
  {
   "cell_type": "code",
   "execution_count": null,
   "metadata": {
    "_uuid": "0783ff4338527ba0749d2afb4712630d738343fb"
   },
   "outputs": [],
   "source": [
    "score_grid_forest"
   ]
  },
  {
   "cell_type": "markdown",
   "metadata": {
    "_uuid": "2766f072ffdc6bb216a44142286c08426ea20043"
   },
   "source": [
    "our predictions are almost 77% accurate, i.e. we have identified 77% of the loan status correctly for our Random Forest model with grid search."
   ]
  },
  {
   "cell_type": "code",
   "execution_count": null,
   "metadata": {
    "_uuid": "d624ff63c8b4d32fc808b2a0f9884be40776933e"
   },
   "outputs": [],
   "source": [
    "pred_grid_forest_test = grid_forest_model.predict(test)"
   ]
  },
  {
   "cell_type": "code",
   "execution_count": null,
   "metadata": {
    "_uuid": "991314321be1d721e605e8cb5e78d393e21ab8a7"
   },
   "outputs": [],
   "source": [
    "importances = pd.Series(forest_model.feature_importances_,index=X.columns)\n",
    "importances.plot(kind='barh', figsize=(12,8))"
   ]
  },
  {
   "cell_type": "markdown",
   "metadata": {
    "_uuid": "9b1784ab4fe22b5185ecce5b2fa69384ea8190b7"
   },
   "source": [
    "We can find out that 'Credit_History','Balance Income' feature are most important. So, feature engineering helped us in predicting our target variable."
   ]
  },
  {
   "cell_type": "code",
   "execution_count": null,
   "metadata": {
    "_uuid": "fd3e297a326897bc94df9411a58eb2c268126793"
   },
   "outputs": [],
   "source": []
  }
 ],
 "metadata": {
  "kernelspec": {
   "display_name": "Python 3 (ipykernel)",
   "language": "python",
   "name": "python3"
  },
  "language_info": {
   "codemirror_mode": {
    "name": "ipython",
    "version": 3
   },
   "file_extension": ".py",
   "mimetype": "text/x-python",
   "name": "python",
   "nbconvert_exporter": "python",
   "pygments_lexer": "ipython3",
   "version": "3.11.5"
  }
 },
 "nbformat": 4,
 "nbformat_minor": 4
}
